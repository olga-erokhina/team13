{
 "cells": [
  {
   "cell_type": "markdown",
   "metadata": {},
   "source": [
    "**Sustainable Software Development, block course, March 2021**  \n",
    "*Scientific Software Center, Institute for Scientific Computing, Dr. Inga Ulusoy*\n",
    "\n",
    "# Analysis of the data\n",
    "\n",
    "Imagine you perform a \"measurement\" of some type and obtain \"scientific data\". You know what your data represents, but you have only a vague idea how different features in the data are connected, and what information you can extract from the data.\n",
    "\n",
    "You would start first with going through the data, making sure your data set is complete and that the result is reasonable. Imagine this already happened.\n",
    "\n",
    "In the next step, you would inspect your data more closely and try to identify structures. That is the step that we are focusing on in this unit.\n",
    "\n",
    "In the `data` folder, you will find several data files (`*.t` and `*.dat`). These are data files generated through some \"new approach\" that hasn't been used in your lab before. No previous analysis software exists, and you are going to establish a protocol for this \"new approach\" and \"publish your results\".\n",
    "\n",
    "The data can be grouped into two categories: \n",
    "1. data to be analyzed using statistical methods;\n",
    "2. data to be analyzed using numerical methods.\n",
    "\n",
    "In your hypothetical lab, you are an \"expert\" in one particular \"method\", and your co-worker is an \"expert\" in the other. Combined these two methods will lead to much more impactful results than if only one of you analyzed the data. Now, the task in this course is to be solved collaboratively with your team member working on one of the analysis approaches, and you working on the other. You will both implement functionality into the same piece of \"software\", but do so collaboratively through git.\n",
    "\n",
    "As you do not know yet which analysis is most meaningful for your data, and how to implement it, you will start with a jupyter notebook. You and your team member will work on the same notebook that will be part of a github repository for your project. This is the task for today. Discuss with your team members who will work on the statistical and who on the numerical analysis."
   ]
  },
  {
   "cell_type": "markdown",
   "metadata": {},
   "source": [
    "## Step 1\n",
    "\n",
    "Generate a github repository with the relevant files."
   ]
  },
  {
   "cell_type": "markdown",
   "metadata": {},
   "source": [
    "## Step 2\n",
    "\n",
    "Clone the repository to your local machine."
   ]
  },
  {
   "cell_type": "markdown",
   "metadata": {},
   "source": [
    "## Step 3\n",
    "\n",
    "Start working on task 1 for your analysis approach. "
   ]
  },
  {
   "cell_type": "markdown",
   "metadata": {},
   "source": [
    "## Step 4\n",
    "\n",
    "Create your own branch of the repository and commit your changes to your branch; push to the remote repository."
   ]
  },
  {
   "cell_type": "markdown",
   "metadata": {},
   "source": [
    "## Step 5\n",
    "\n",
    "Open a `pull request` so your team member can review your implementation. Likewise, your team member will ask you to review theirs."
   ]
  },
  {
   "cell_type": "markdown",
   "metadata": {},
   "source": [
    "## Step 6\n",
    "\n",
    "Merge the changes in your branch into `main`. Resolve conflicts."
   ]
  },
  {
   "cell_type": "markdown",
   "metadata": {},
   "source": [
    "## Step 7\n",
    "\n",
    "Repeat working on task; committing and pushing to your previously generated branch or a new branch; open a pull request; merge with main; until you have finished all the tasks in your analysis approach. Delete obsolete branches."
   ]
  },
  {
   "cell_type": "markdown",
   "metadata": {},
   "source": [
    "# Start of the analysis notebook\n",
    "\n",

    "**Author : Olga Erokhina, Jing Sun, Robin Koch**  \n",
    "*Date : 11.03.2021*  \n",
    "*Affiliation : IUP, DKFZ*  \n",
    "\n",
    "Place the required modules in the top, followed by required constants and global functions."
   ]
  },
  {
   "cell_type": "code",
   "execution_count": 1,
   "metadata": {},
   "outputs": [],
   "source": [
    "# required modules\n",
    "import numpy as np\n",
    "import matplotlib.pyplot as plt\n",
    "import pandas as pd\n",
    "import seaborn as sn\n",
    "import math as mt"
   ]
  },
  {
   "cell_type": "code",
   "execution_count": 2,
   "metadata": {},
   "outputs": [],
   "source": [
    "# constants and global functions\n",

    "thershv = 1.e-5\n",
    "fldr = \"/home/olga/sustainable_development_course/course/team13/\""
    "filedir = 'D:/course/team13/data/'"
     "filenames = \"efield.t\", \"expec.t\", \"npop.t\", \"nstate_i.t\", \"table.dat\"\n",
   ]
  },
  {
   "cell_type": "code",
   "execution_count": 3,
   "metadata": {},
   "outputs": [],
   "source": [
    "# reading of the data files\n",
    "def read_in_df(filedir, filename):\n",
    "    name = '{}{}'.format(filedir, filename)\n",
    "    print('Reading from file {} - pandas'.format(name))\n",
    "    data = pd.read_csv(name,r'\\s+')\n",
    "    return data\n",
    "def read_in_np(filedir, filename):\n",
    "    name = '{}{}'.format(filedir, filename)\n",
    "    print('Reading from file {} - numpy'.format(name))\n",
    "    data = np.loadtxt(name,skiprows=1)\n",
    "    data = data.T\n",
    "    return data"
   ]
  },
  {
   "cell_type": "markdown",
   "metadata": {},
   "source": [
    "# Statistical analysis\n",
    "\n",
    "Find correlations in the data sets. Analyse the data statistically and plot your results.  \n",
    "\n",
    "Here we would want to do everything with pandas and leave the data in a dataframe. The files that are relevant to you are `expect.t`, `npop.t` and `table.dat`."
   ]
  },
  {
   "cell_type": "markdown",
   "metadata": {},
   "source": [
    "### Task 1: Read in expec.t and plot relevant data"
   ]
  },
  {
   "cell_type": "code",
   "execution_count": 4,
   "metadata": {},
   "outputs": [
    {
     "name": "stdout",
     "output_type": "stream",
     "text": [
      "Reading from file D:/course/team13/data/expec.t - pandas\n"
     ]
    }
   ],
   "source": [
    "# read and plot expec.t\n",
    "df_expec = read_in_df(filedir, filenames[1])"
   ]
  },
  {
   "cell_type": "code",
   "execution_count": 7,
   "metadata": {},
   "outputs": [
    {
     "data": {
      "image/png": "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\n",
      "text/plain": [
       "<Figure size 360x360 with 1 Axes>"
      ]
     },
     "metadata": {
      "needs_background": "light"
     },
     "output_type": "display_data"
    }
   ],
   "source": [
    "sn.relplot(data=df_expec, kind='line', x='time', y='<H>')\n",
    "plt.show()"
   ]
  },
  {
   "cell_type": "code",
   "execution_count": 9,
   "metadata": {},
   "outputs": [
    {
     "name": "stdout",
     "output_type": "stream",
     "text": [
      "1e-05\n"
     ]
    }
   ],
   "source": [
    "# read and plot expec.t\n",
    "#name = '{}{}'.format(fldr,filenames[1])\n",
    "data_ex = pd.read_csv(\"../data/expec.t\")"
   ]
  },
  {
   "cell_type": "markdown",
   "metadata": {},
   "source": [
    "We can discard the entries norm, \\<x>, and \\<y> as these are mostly constant."
   ]
  },
  {
   "cell_type": "code",
   "execution_count": 22,
   "metadata": {},
   "outputs": [
    {
     "name": "stdout",
     "output_type": "stream",
     "text": [
      "     time       <z>       <H>\n",
      "0     0.0 -2.196320  0.000000\n",
      "1     0.1 -2.196320  0.000000\n",
      "2     0.2 -2.196320  0.000000\n",
      "3     0.3 -2.196320  0.000000\n",
      "4     0.4 -2.196320  0.000000\n",
      "..    ...       ...       ...\n",
      "96    9.6 -2.012171  0.032949\n",
      "97    9.7 -1.441347  0.032949\n",
      "98    9.8 -0.982419  0.032949\n",
      "99    9.9 -0.759304  0.032949\n",
      "100  10.0 -0.629835  0.032949\n",
      "\n",
      "[101 rows x 3 columns]\n"
     ]
    }
   ],
   "source": [
    "# eliminate columns based on the variance: if the variance of the values\n",
    "# in a column is below a given threshold, that column is discarded\n",
    "for i in list(df_expec.head(0)):\n",
    "    if df_expec.var()[i] <= thershv:\n",
    "        df_expec.drop(i, axis=1, inplace = True)\n",
    "\n",
    "print(df_expec)"
   ]
  },
  {
   "cell_type": "markdown",
   "metadata": {},
   "source": [
    "### Task 2: Create plots of the relevant data and save as .pdf."
   ]
  },
  {
   "cell_type": "code",
   "execution_count": 29,
   "metadata": {},
   "outputs": [],
   "source": [
    "# create plots\n",
    "sn.relplot(data=df_expec, kind='line', x='time', y='<z>')\n",
    "plt.savefig('expec_z.pdf', bbox_inches='tight')\n",
    "plt.close()\n",
    "\n",
    "sn.relplot(data=df_expec, kind='line', x='time', y='<H>')\n",
    "plt.savefig('expec_H.pdf', bbox_inches='tight')\n",
    "plt.close()"
   ]
  },
  {
   "cell_type": "markdown",
   "metadata": {},
   "source": [
    "### Task 3: Read in file `npop.t` and analyze correlations in the data"
   ]
  },
  {
   "cell_type": "code",
   "execution_count": 30,
   "metadata": {},
   "outputs": [
    {
     "name": "stdout",
     "output_type": "stream",
     "text": [
      "Reading from file D:/course/team13/data/npop.t - pandas\n"
     ]
    }
   ],
   "source": [
    " # read in npop.t\n",
    "df_pop = read_in_df(filedir, filenames[2])"
   ]
  },
  {
   "cell_type": "code",
   "execution_count": 31,
   "metadata": {},
   "outputs": [
    {
     "name": "stdout",
     "output_type": "stream",
     "text": [
      "     time       MO3       MO4       MO6      MO11      MO12      MO14\n",
      "0     0.0  0.976819  0.976330  0.005711  0.004568  0.006659  0.000107\n",
      "1     0.1  0.976819  0.976330  0.005711  0.004568  0.006659  0.000107\n",
      "2     0.2  0.976819  0.976330  0.005711  0.004568  0.006659  0.000107\n",
      "3     0.3  0.976819  0.976330  0.005711  0.004568  0.006659  0.000107\n",
      "4     0.4  0.976819  0.976330  0.005711  0.004568  0.006659  0.000107\n",
      "..    ...       ...       ...       ...       ...       ...       ...\n",
      "96    9.6  0.958403  0.797274  0.148098  0.012219  0.027792  0.014994\n",
      "97    9.7  0.957587  0.804826  0.093095  0.012243  0.030818  0.059735\n",
      "98    9.8  0.954496  0.794074  0.128985  0.012491  0.020341  0.046814\n",
      "99    9.9  0.950438  0.783889  0.144308  0.017117  0.032180  0.027780\n",
      "100  10.0  0.950052  0.783028  0.154622  0.018999  0.032437  0.020387\n",
      "\n",
      "[101 rows x 7 columns]\n"
     ]
    }
   ],
   "source": [
    "# discard all columns with variance below a set threshold - we can consider them as constant\n",
    "for i in list(df_pop.head(0)):\n",
    "    if df_pop.var()[i] <= thershv:\n",
    "        df_pop.drop(i, axis=1, inplace = True)\n",
    "\n",
    "print(df_pop)"
   ]
  },
  {
   "cell_type": "markdown",
   "metadata": {},
   "source": [
    "Plot the remaining columns. Seaborn prefers \"long format\" (one column for all measurement values, one column to indicate the type) as input, whereas the cvs is in \"wide format\" (one column per measurement type)."
   ]
  },
  {
   "cell_type": "code",
   "execution_count": 32,
   "metadata": {},
   "outputs": [],
   "source": [
    "# plot ideally with seaborn\n",
    "for i in list(df_pop.head(0))[1:]:\n",
    "    sn.relplot(data=df_pop, kind='line', x='time', y=i)\n",
    "    plt.savefig('pop_'+i+'.pdf', bbox_inches='tight')\n",
    "    plt.close()"
   ]
  },
  {
   "cell_type": "markdown",
   "metadata": {},
   "source": [
    "## Quantify the pairwise correlation in the data\n",
    "\n",
    "- negative correlation: y values decrease for increasing x - large values of one feature correspond to small values of the other feature\n",
    "- weak or no correlation: no trend observable, association between two features is hardly observable\n",
    "- positive correlation: y values increase for decreasing x - small values of one feature correspond to small values of the other feature\n",
    "\n",
    "Remember that correlation does not indicate causation - the reason that two features are associated can lie in their dependence on same factors.\n",
    "\n",
    "Correlate the value pairs using Pearson's $r$. Pearson's $r$ is a measure of the linear relationship between features:\n",
    "\n",
    "$r = \\frac{\\sum_i(x_i − \\bar{x})(y_i − \\bar{y})}{\\sqrt{\\sum_i(x_i − \\bar{x})^2 \\sum_i(y_i − \\bar{y})^2}}$\n",
    "\n",
    "Here, $\\bar{x}$ and $\\bar{y}$ indicate mean values. $i$ runs over the whole data set. For a positive correlation, $r$ is positive, and negative for a negative correlation, with minimum and maximum values of -1 and 1, indicating a perfectly linear relationship. Weakly or not correlated features are characterized by $r$-values close to 0.\n",
    "\n",
    "Other measures of correlation that can be used are Spearman's rank (value pairs follow monotonic function) or Kendall's $\\tau$ (measures ordinal association), but they do not apply here. You can also define measures yourself."
   ]
  },
  {
   "cell_type": "code",
   "execution_count": 33,
   "metadata": {},
   "outputs": [],
   "source": [
    "df_pop.drop('time', axis=1, inplace = True)"
   ]
  },
  {
   "cell_type": "code",
   "execution_count": 34,
   "metadata": {},
   "outputs": [],
   "source": [
    "# print the correlation matrix\n",
    "corr = df_pop.corr(method='pearson')"
   ]
  },
  {
   "cell_type": "code",
   "execution_count": 38,
   "metadata": {},
   "outputs": [],
   "source": [
    "corr = np.asarray(corr)"
   ]
  },
  {
   "cell_type": "markdown",
   "metadata": {},
   "source": [
    "The diagonal values tell us that each value is perfectly correlated with itself. We are not interested in the diagonal values and also not in the correlation with time. We also need to get rid of redundant entries. Finally, we need to find the value pairs that exhibit the highest linear correlation. We still want to know if it is positive or negative correlation, so we cannot get rid of the sign."
   ]
  },
  {
   "cell_type": "code",
   "execution_count": 50,
   "metadata": {},
   "outputs": [
    {
     "name": "stdout",
     "output_type": "stream",
     "text": [
      "   MOindex1 MOindex2  correlation\n",
      "3      MO11      MO3    -0.966070\n",
      "2       MO6      MO4    -0.964051\n",
      "0       MO4      MO3     0.926317\n",
      "1       MO6      MO3    -0.907659\n",
      "9      MO12     MO11     0.855583\n",
      "4      MO11      MO4    -0.844402\n",
      "5      MO11      MO6     0.841446\n",
      "6      MO12      MO3    -0.818545\n",
      "7      MO12      MO4    -0.782851\n",
      "11     MO14      MO4    -0.726726\n",
      "8      MO12      MO6     0.699677\n",
      "10     MO14      MO3    -0.590497\n",
      "12     MO14      MO6     0.538846\n",
      "14     MO14     MO12     0.514489\n",
      "13     MO14     MO11     0.447701\n"
     ]
    }
   ],
   "source": [
    "# get rid of time column, lower triangular and diagonal entries of the correlation matrix\n",
    "corr_list = []\n",
    "for i in range(len(corr)):\n",
    "    for j in range(len(corr)):\n",
    "        if i > j:\n",
    "            corr_list.append([list(df_pop.head(0))[i], list(df_pop.head(0))[j], corr[i,j], abs(corr[i,j])])\n",
    "# sort the remaing values according to their absolute value, but keep the sign\n",
    "corr_out = pd.DataFrame(data = corr_list, columns=['MOindex1', 'MOindex2', 'correlation', 'correlation_abs'])\n",
    "corr_out.sort_values(by=['correlation_abs'], ascending = False, inplace=True)\n",
    "corr_out.drop('correlation_abs', axis=1, inplace = True)\n",
    "print(corr_out)"
   ]
  },
  {
   "cell_type": "markdown",
   "metadata": {},
   "source": [
    "Note that the entries in the left column are not repeated if they do not change from the row above (so the fourth feature pair is MO3 and MO6)."
   ]
  },
  {
   "cell_type": "markdown",
   "metadata": {},
   "source": [
    "### Task 4: Print the resulting data to a file"
   ]
  },
  {
   "cell_type": "code",
   "execution_count": 51,
   "metadata": {},
   "outputs": [],
   "source": [
    "# write to file\n",
    "corr_out.to_csv(r'pop_correlation.csv')"
   ]
  },
  {
   "cell_type": "markdown",
   "metadata": {},
   "source": [
    "### Task 5: Calculate the Euclidean distance (L2 norm) for the vectors in `table.dat`\n",
    "\n",
    "\n",
    "The Euclidean distance measures the distance between to objects that are not points:\n",
    "\n",
    "$d(p,q) = \\sqrt{\\left(p-q\\right)^2}$\n",
    "\n",
    "In this case, consider each of the columns in table.dat as a vector in Euclidean space, where column $r(x)$ and column $v(x)$ denote a pair of vectors that should be compared, as well as $r(y)$ and $v(y)$, and r(z) and v(z).\n",
    "\n",
    "(Background: These are dipole moment components in different gauges, the length and velocity gauge.)"
   ]
  },
  {
   "cell_type": "code",
   "execution_count": null,
   "metadata": {},
   "outputs": [],
   "execution_count": 120,
   "metadata": {},
   "outputs": [
    {
     "name": "stdout",
     "output_type": "stream",
     "text": [
      "Reading from file D:/course/team13/data/table.dat - pandas\n",
      "   i   j      r(x)      v(x)      r(y)      v(y)      r(z)      v(z)\n",
      "0  1   2  0.000000  0.000000  0.000000  0.000000  0.997737  1.210318\n",
      "1  1   3 -1.171532 -1.106132  0.940962  0.888433  0.000000  0.000000\n",
      "2  1   4 -0.940962 -0.888433 -1.171532 -1.106132  0.000000  0.000000\n",
      "3  1   5  0.000000 -0.000000  0.000000  0.000000 -0.322745 -0.534832\n",
      "4  1   6  0.051684  0.000184 -0.040177 -0.000141  0.000000  0.000000\n",
      "5  1   7 -0.040177 -0.000141 -0.051684 -0.000184  0.000000  0.000000\n",
      "6  1   8 -0.000000 -0.000000 -0.000000 -0.000000 -0.124361 -0.072069\n",
      "7  1   9 -0.000000 -0.000000  0.000000  0.000000  1.138370  0.955195\n",
      "8  1  10 -0.000000 -0.000000 -0.000000 -0.000000  0.023834  0.025219\n",
      "9  1  11  0.000000  0.000000  0.000000 -0.000000  0.000000  0.000000\n"
     ]
    }
   ],
   "source": [
    "# read in table.dat - I suggest reading it as a numpy array\n",
    " # read in npop.t\n",
    "df_table = read_in_df(filedir, filenames[4])\n",
    "\n",
    "# replace the NaNs by zero\n",
    "df_table.fillna(0, inplace=True)\n",
    "\n",
    "print(df_table.head(10))\n",
    "df_table = np.asarray(df_table, dtype=np.float64)"
   ]
  },
  {
   "cell_type": "code",
   "execution_count": 121,
   "metadata": {},
   "outputs": [
    {
     "data": {
      "text/plain": [
       "array([83., 84.,  0.,  0., -0.,  0., -0.,  0.])"
      ]
     },
     "execution_count": 121,
     "metadata": {},
     "output_type": "execute_result"
    }
   ],
   "source": [
    "df_table[4797]"
   ]
  },
  {
   "cell_type": "markdown",
   "metadata": {},
   "source": [
    "Now calculate how different the vectors in column 2 are from column 3, column 4 from column 5, and column 6 from column 7."
   ]
  },
  {
   "cell_type": "code",
   "execution_count": 125,
   "metadata": {},
   "outputs": [],
   "source": [
    "# calculate the Euclidean distance\n",
    "norm_rvx = np.linalg.norm(df_table[:,2]-df_table[:,3])\n",
    "norm_rvy = np.linalg.norm(df_table[:,4]-df_table[:,5])\n",
    "norm_rvz = np.linalg.norm(df_table[:,6]-df_table[:,7])"
   ]
  },
  {
   "cell_type": "code",
   "execution_count": 126,
   "metadata": {},
   "outputs": [
    {
     "name": "stdout",
     "output_type": "stream",
     "text": [
      "163.9885805904353\n"
     ]
    }
   ],
   "source": [
    "print(norm_rvx)"
   ]
  },
  {
   "cell_type": "code",
   "execution_count": null,
   "metadata": {},
   "outputs": [],
   "source": [
    "# plot the result and save to a .pdf"
   ]
  },
  {
   "cell_type": "code",
   "execution_count": 128,
   "metadata": {},
   "outputs": [],
   "source": [
    "# print the result to a file\n",
    "table_out = pd.DataFrame(data=[[norm_rvx,norm_rvy,norm_rvz]], columns=['ED_x', 'ED_y', 'ED_z'])\n",
    "table_out.to_csv(r'EuclideanDistance.csv')"
   ]
  },
  {
   "cell_type": "markdown",
   "metadata": {},
   "source": [
    "# Numerical analysis\n",
    "\n",
    "Analyze the data using autocorrelation functions and discrete Fourier transforms. Plot your results."
   ]
  },
  {
   "cell_type": "code",
   "execution_count": null,
   "metadata": {},
   "outputs": [],
   "source": [
    "# define some global functions"
   ]
  },
  {
   "cell_type": "markdown",
   "metadata": {},
   "source": [
    "### Task 1: Read in `efield.t` and Fourier-transform relevant columns"
   ]
  },
  {
   "cell_type": "code",
   "execution_count": null,
   "metadata": {},
   "outputs": [],
   "source": [
    "# read and plot efield.t\n",
    "data = pd.read_csv('../data/efield.t', delimiter='\\s+')\n",
    "data"
   ]
  },
  {
   "cell_type": "markdown",
   "metadata": {},
   "source": [
    "Here we are interested in column 2 since the others are constant."
   ]
  },
  {
   "cell_type": "code",
   "execution_count": null,
   "metadata": {},
   "outputs": [],
   "source": [
    "# discard the columns with variance below threshold - these are considered constant\n",
    "\n",
    "data_d = data.drop(data.var()[data.std()<thershv].index.values,axis=1)\n",
    "data_d"
   ]
  },
  {
   "cell_type": "code",
   "execution_count": null,
   "metadata": {},
   "outputs": [],
   "source": [
    "# discrete Fourier transform of the remaining column: You only need the real frequencies\n",
    "data_f = np.fft.fft(data['y'])\n",
    "data_fr = np.real( data_f )"
   ]
  },
  {
   "cell_type": "markdown",
   "metadata": {},
   "source": [
    "### Task 2: Generate a plot of your results to be saved as pdf."
   ]
  },
  {
   "cell_type": "code",
   "execution_count": null,
   "metadata": {},
   "outputs": [],
   "source": [
    "# plot your results\n",
    "plt.plot(data_fr)\n",
    "plt.savefig(\"data_fourier.pdf\")"
   ]
  },
  {
   "cell_type": "markdown",
   "metadata": {},
   "source": [
    "### Task 3: Calculate the autocorrelation function from nstate_i.t\n",
    "The autocorrelation function measures how correlated subsequent vectors are with an initial vector; ie. \n",
    "\n",
    "$\\Psi_{corr} = \\langle \\Psi(t=0) | \\Psi(t) \\rangle = \\int_0^{tfin} \\Psi(0)^* \\Psi(t) dt$\n",
    "\n",
    "Since we are in a numerical representation, the integral can be replaced with a sum; and the given vectors are already normalized."
   ]
  },
  {
   "cell_type": "code",
   "execution_count": null,
   "metadata": {},
   "outputs": [],
   "source": [
    "# read in as numpy array\n",
    "data_nstate = np.genfromtxt('../data/nstate_i.t', skip_header=1)\n",
    "data_nstate.shape"
   ]
  },
  {
   "cell_type": "code",
   "execution_count": null,
   "metadata": {},
   "outputs": [],
   "source": [
    "# store the time column (column 0) in a vector and drop from array\n",
    "time=data_nstate[:,0]\n",
    "ns = np.delete(data_nstate, 0, axis=1)\n",
    "ns.shape"
   ]
  },
  {
   "cell_type": "code",
   "execution_count": null,
   "metadata": {},
   "outputs": [],
   "source": [
    "# correct the data representation: this is in fact a complex matrix\n",
    "# the real part of each matrix column is contained in numpy array column 0, 2, 4, 6, ...\n",
    "# the imaginary part of each matrix column is contained in numpy array column 1, 3, 5, 7, ...\n",
    "# convert the array that was read as dtype=float into a dtype=complex array\n",
    "arr = ns.view('complex128')\n",
    "arr.shape"
   ]
  },
  {
   "cell_type": "code",
   "execution_count": null,
   "metadata": {},
   "outputs": [],
   "source": [
    "# for the autocorrelation function, we want the overlap between the first vector at time 0 \n",
    "# and all subsequent vectors at later times - the sum of the product of initial and \n",
    "# subsequent vectors for each time step\n",
    "#corr = np.correlate(arr,arr,mode='full') \n",
    "a = arr[0,:]\n",
    "for i in range(1, 101):\n",
    "    aa = np.correlate(a, arr[i,:], mode='full')\n",
    "aa.shape"
   ]
  },
  {
   "cell_type": "markdown",
   "metadata": {},
   "source": [
    "### Task 4: Generate a plot of your results to be saved as pdf."
   ]
  },
  {
   "cell_type": "code",
   "execution_count": null,
   "metadata": {},
   "outputs": [],
   "source": [
    "# plot the autocorrelation function - real, imaginary and absolute part\n",
    "re_aa = np.real( aa )\n",
    "\n",
    "im_aa = np.imag(aa)\n",
    "\n",
    "abs_aa = np.abs(aa)\n",
    "\n",
    "[fig_aa, axs] = plt.subplots(3)\n",
    "axs[0].plot(re_aa)\n",
    "axs[1].plot(im_aa)\n",
    "axs[2].plot(abs_aa)"
   ]
  },
  {
   "cell_type": "markdown",
   "metadata": {},
   "source": [
    "### Task 5: Discrete Fourier transform of the autocorrelation function"
   ]
  },
  {
   "cell_type": "code",
   "execution_count": null,
   "metadata": {},
   "outputs": [],
   "source": [
    "# discrete Fourier-transform the autocorrelation function - now we need all frequency \n",
    "#components, also the negative ones\n",
    "aa_f = np.fft.fft(aa)\n",
    "aa_f_re = np.real( aa_f )\n",
    "aa_f_im = np.imag( aa_f )\n",
    "aa_f_abs = np.abs( aa_f )"
   ]
  },
  {
   "cell_type": "markdown",
   "metadata": {},
   "source": [
    "### Task 6: Generate a plot of your results to be saved as pdf."
   ]
  },
  {
   "cell_type": "code",
   "execution_count": null,
   "metadata": {},
   "outputs": [],
   "source": [
    "# plot the power spectrum (abs**2)\n",
    "aa_power= aa_f_abs * aa_f_abs\n",
    "plt.plot(aa_power)"
   ]
  }
 ],
 "metadata": {
  "kernelspec": {
   "display_name": "Python 3",
   "language": "python",
   "name": "python3"
  },
  "language_info": {
   "codemirror_mode": {
    "name": "ipython",
    "version": 3
   },
   "file_extension": ".py",
   "mimetype": "text/x-python",
   "name": "python",
   "nbconvert_exporter": "python",
   "pygments_lexer": "ipython3",
   "version": "3.8.1"
  }
 },
 "nbformat": 4,
 "nbformat_minor": 4
}
