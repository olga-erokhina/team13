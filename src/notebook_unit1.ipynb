{
 "cells": [
  {
   "cell_type": "markdown",
   "metadata": {},
   "source": [
    "**Sustainable Software Development, block course, March 2021**  \n",
    "*Scientific Software Center, Institute for Scientific Computing, Dr. Inga Ulusoy*\n",
    "\n",
    "# Analysis of the data\n",
    "\n",
    "Imagine you perform a \"measurement\" of some type and obtain \"scientific data\". You know what your data represents, but you have only a vague idea how different features in the data are connected, and what information you can extract from the data.\n",
    "\n",
    "You would start first with going through the data, making sure your data set is complete and that the result is reasonable. Imagine this already happened.\n",
    "\n",
    "In the next step, you would inspect your data more closely and try to identify structures. That is the step that we are focusing on in this unit.\n",
    "\n",
    "In the `data` folder, you will find several data files (`*.t` and `*.dat`). These are data files generated through some \"new approach\" that hasn't been used in your lab before. No previous analysis software exists, and you are going to establish a protocol for this \"new approach\" and \"publish your results\".\n",
    "\n",
    "The data can be grouped into two categories: \n",
    "1. data to be analyzed using statistical methods;\n",
    "2. data to be analyzed using numerical methods.\n",
    "\n",
    "In your hypothetical lab, you are an \"expert\" in one particular \"method\", and your co-worker is an \"expert\" in the other. Combined these two methods will lead to much more impactful results than if only one of you analyzed the data. Now, the task in this course is to be solved collaboratively with your team member working on one of the analysis approaches, and you working on the other. You will both implement functionality into the same piece of \"software\", but do so collaboratively through git.\n",
    "\n",
    "As you do not know yet which analysis is most meaningful for your data, and how to implement it, you will start with a jupyter notebook. You and your team member will work on the same notebook that will be part of a github repository for your project. This is the task for today. Discuss with your team members who will work on the statistical and who on the numerical analysis."
   ]
  },
  {
   "cell_type": "markdown",
   "metadata": {},
   "source": [
    "## Step 1\n",
    "\n",
    "Generate a github repository with the relevant files."
   ]
  },
  {
   "cell_type": "markdown",
   "metadata": {},
   "source": [
    "## Step 2\n",
    "\n",
    "Clone the repository to your local machine."
   ]
  },
  {
   "cell_type": "markdown",
   "metadata": {},
   "source": [
    "## Step 3\n",
    "\n",
    "Start working on task 1 for your analysis approach. "
   ]
  },
  {
   "cell_type": "markdown",
   "metadata": {},
   "source": [
    "## Step 4\n",
    "\n",
    "Create your own branch of the repository and commit your changes to your branch; push to the remote repository."
   ]
  },
  {
   "cell_type": "markdown",
   "metadata": {},
   "source": [
    "## Step 5\n",
    "\n",
    "Open a `pull request` so your team member can review your implementation. Likewise, your team member will ask you to review theirs."
   ]
  },
  {
   "cell_type": "markdown",
   "metadata": {},
   "source": [
    "## Step 6\n",
    "\n",
    "Merge the changes in your branch into `main`. Resolve conflicts."
   ]
  },
  {
   "cell_type": "markdown",
   "metadata": {},
   "source": [
    "## Step 7\n",
    "\n",
    "Repeat working on task; committing and pushing to your previously generated branch or a new branch; open a pull request; merge with main; until you have finished all the tasks in your analysis approach. Delete obsolete branches."
   ]
  },
  {
   "cell_type": "markdown",
   "metadata": {},
   "source": [
    "# Start of the analysis notebook\n",
    "\n",
    "**Author : Team 09: Krishna, Robin and Sudip**  \n",
    "*Date : 11.03.2021*  \n",
    "*Affiliation : Heidelberg University*  \n",
    "\n",
    "Place the required modules in the top, followed by required constants and global functions."
   ]
  },
  {
   "cell_type": "code",
   "execution_count": 1,
   "metadata": {},
   "outputs": [],
   "source": [
    "import numpy as np\n",
    "import matplotlib.pyplot as plt\n",
    "import pandas as pd\n",
    "import seaborn as sn\n",
    "from os import path"
   ]
  },
  {
   "cell_type": "code",
   "execution_count": 2,
   "metadata": {},
   "outputs": [],
   "source": [
    "# constants and global functions\n",
    "threshv = 1.0e-5\n",
    "filenames = 'efield.t', 'expec.t', 'npop.t', 'nstate_i.t', 'table.dat'\n",
    "filedir = '../data/'\n",
    "plotdir = '../plots/'"
   ]
  },
  {
   "cell_type": "code",
   "execution_count": 3,
   "metadata": {},
   "outputs": [],
   "source": [
    "# reading of the data files\n",
    "def read_df(filedir, filename):\n",
    "    name = '{}{}'.format(filedir, filename)\n",
    "    print('Reading from file {} - pandas'.format(name))\n",
    "    data = pd.read_csv(name, r'\\s+')\n",
    "    return data\n",
    "\n",
    "def read_np(filedir, filename):\n",
    "    name = '{}{}'.format(filedir, filename)\n",
    "    print('Reading from file {} - numpy'.format(name))\n",
    "    data = np.loadtxt(name, skiprows=1)\n",
    "    data = data.T\n",
    "    return data\n",
    "\n",
    "#read every file as pandas DataFrame\n",
    "#files_pd = [read_df(filedir, fn) for fn in filenames]\n",
    "#read every file as numpy array\n",
    "#files_np = [read_np(filedir, fn) for fn in filenames]"
   ]
  },
  {
   "cell_type": "code",
   "execution_count": 4,
   "metadata": {},
   "outputs": [],
   "source": [
    "#a function to save a seaborn plot\n",
    "def save_plot(figure, plotdir, filename):\n",
    "    fig = figure.get_figure()\n",
    "    print('Saving figure at {}{}'.format(plotdir,filename))\n",
    "    if not path.exists(plotdir):\n",
    "        os.mkdir(plotdir)\n",
    "    fig.savefig('{}{}'.format(plotdir,filename))\n",
    "    return\n"
   ]
  },
  {
   "cell_type": "markdown",
   "metadata": {},
   "source": [
    "# Statistical analysis\n",
    "\n",
    "Find correlations in the data sets. Analyse the data statistically and plot your results.  \n",
    "\n",
    "Here we would want to do everything with pandas and leave the data in a dataframe. The files that are relevant to you are `expect.t`, `npop.t` and `table.dat`."
   ]
  },
  {
   "cell_type": "markdown",
   "metadata": {},
   "source": [
    "### Task 1: Read in expec.t and plot relevant data"
   ]
  },
  {
   "cell_type": "code",
   "execution_count": 5,
   "metadata": {},
   "outputs": [
    {
     "name": "stdout",
     "output_type": "stream",
     "text": [
      "Reading from file ../data/expec.t - pandas\n"
     ]
    },
    {
     "data": {
      "text/html": [
       "<div>\n",
       "<style scoped>\n",
       "    .dataframe tbody tr th:only-of-type {\n",
       "        vertical-align: middle;\n",
       "    }\n",
       "\n",
       "    .dataframe tbody tr th {\n",
       "        vertical-align: top;\n",
       "    }\n",
       "\n",
       "    .dataframe thead th {\n",
       "        text-align: right;\n",
       "    }\n",
       "</style>\n",
       "<table border=\"1\" class=\"dataframe\">\n",
       "  <thead>\n",
       "    <tr style=\"text-align: right;\">\n",
       "      <th></th>\n",
       "      <th>time</th>\n",
       "      <th>norm</th>\n",
       "      <th>&lt;x&gt;</th>\n",
       "      <th>&lt;y&gt;</th>\n",
       "      <th>&lt;z&gt;</th>\n",
       "      <th>&lt;H&gt;</th>\n",
       "    </tr>\n",
       "  </thead>\n",
       "  <tbody>\n",
       "    <tr>\n",
       "      <th>0</th>\n",
       "      <td>0.0</td>\n",
       "      <td>1.0</td>\n",
       "      <td>0.0</td>\n",
       "      <td>0.0</td>\n",
       "      <td>-2.19632</td>\n",
       "      <td>0.0</td>\n",
       "    </tr>\n",
       "    <tr>\n",
       "      <th>1</th>\n",
       "      <td>0.1</td>\n",
       "      <td>1.0</td>\n",
       "      <td>0.0</td>\n",
       "      <td>0.0</td>\n",
       "      <td>-2.19632</td>\n",
       "      <td>0.0</td>\n",
       "    </tr>\n",
       "    <tr>\n",
       "      <th>2</th>\n",
       "      <td>0.2</td>\n",
       "      <td>1.0</td>\n",
       "      <td>-0.0</td>\n",
       "      <td>0.0</td>\n",
       "      <td>-2.19632</td>\n",
       "      <td>0.0</td>\n",
       "    </tr>\n",
       "    <tr>\n",
       "      <th>3</th>\n",
       "      <td>0.3</td>\n",
       "      <td>1.0</td>\n",
       "      <td>-0.0</td>\n",
       "      <td>0.0</td>\n",
       "      <td>-2.19632</td>\n",
       "      <td>0.0</td>\n",
       "    </tr>\n",
       "    <tr>\n",
       "      <th>4</th>\n",
       "      <td>0.4</td>\n",
       "      <td>1.0</td>\n",
       "      <td>-0.0</td>\n",
       "      <td>0.0</td>\n",
       "      <td>-2.19632</td>\n",
       "      <td>0.0</td>\n",
       "    </tr>\n",
       "  </tbody>\n",
       "</table>\n",
       "</div>"
      ],
      "text/plain": [
       "   time  norm  <x>  <y>      <z>  <H>\n",
       "0   0.0   1.0  0.0  0.0 -2.19632  0.0\n",
       "1   0.1   1.0  0.0  0.0 -2.19632  0.0\n",
       "2   0.2   1.0 -0.0  0.0 -2.19632  0.0\n",
       "3   0.3   1.0 -0.0  0.0 -2.19632  0.0\n",
       "4   0.4   1.0 -0.0  0.0 -2.19632  0.0"
      ]
     },
     "execution_count": 5,
     "metadata": {},
     "output_type": "execute_result"
    }
   ],
   "source": [
    "# read and plot expec.t\n",
    "expect = read_df(filedir, filenames[1])\n",
    "expect.head()\n",
    "\n"
   ]
  },
  {
   "cell_type": "code",
   "execution_count": 6,
   "metadata": {},
   "outputs": [
    {
     "data": {
      "text/plain": [
       "<AxesSubplot:xlabel='time', ylabel='<z>'>"
      ]
     },
     "execution_count": 6,
     "metadata": {},
     "output_type": "execute_result"
    },
    {
     "data": {
      "image/png": "[encoded data removed]",
      "text/plain": [
       "<Figure size 432x288 with 1 Axes>"
      ]
     },
     "metadata": {
      "needs_background": "light"
     },
     "output_type": "display_data"
    }
   ],
   "source": [
    "sn.lineplot(data = expect, x = \"time\", y = \"<z>\")"
   ]
  },
  {
   "cell_type": "code",
   "execution_count": 7,
   "metadata": {},
   "outputs": [
    {
     "data": {
      "text/plain": [
       "<AxesSubplot:xlabel='time', ylabel='<H>'>"
      ]
     },
     "execution_count": 7,
     "metadata": {},
     "output_type": "execute_result"
    },
    {
     "data": {
      "image/png": "[encoded data removed]",
      "text/plain": [
       "<Figure size 432x288 with 1 Axes>"
      ]
     },
     "metadata": {
      "needs_background": "light"
     },
     "output_type": "display_data"
    }
   ],
   "source": [
    "sn.lineplot(data = expect, x = \"time\", y = \"<H>\")"
   ]
  },
  {
   "cell_type": "code",
   "execution_count": 8,
   "metadata": {},
   "outputs": [
    {
     "data": {
      "text/plain": [
       "<AxesSubplot:xlabel='<H>', ylabel='<z>'>"
      ]
     },
     "execution_count": 8,
     "metadata": {},
     "output_type": "execute_result"
    },
    {
     "data": {
      "image/png": "[encoded data removed]",
      "text/plain": [
       "<Figure size 432x288 with 1 Axes>"
      ]
     },
     "metadata": {
      "needs_background": "light"
     },
     "output_type": "display_data"
    }
   ],
   "source": [
    "sn.lineplot(data = expect, x = \"<H>\", y = \"<z>\")"
   ]
  },
  {
   "cell_type": "markdown",
   "metadata": {},
   "source": [
    "We can discard the entries norm, \\<x>, and \\<y> as these are mostly constant."
   ]
  },
  {
   "cell_type": "code",
   "execution_count": 9,
   "metadata": {},
   "outputs": [
    {
     "data": {
      "text/html": [
       "<div>\n",
       "<style scoped>\n",
       "    .dataframe tbody tr th:only-of-type {\n",
       "        vertical-align: middle;\n",
       "    }\n",
       "\n",
       "    .dataframe tbody tr th {\n",
       "        vertical-align: top;\n",
       "    }\n",
       "\n",
       "    .dataframe thead th {\n",
       "        text-align: right;\n",
       "    }\n",
       "</style>\n",
       "<table border=\"1\" class=\"dataframe\">\n",
       "  <thead>\n",
       "    <tr style=\"text-align: right;\">\n",
       "      <th></th>\n",
       "      <th>time</th>\n",
       "      <th>&lt;z&gt;</th>\n",
       "      <th>&lt;H&gt;</th>\n",
       "    </tr>\n",
       "  </thead>\n",
       "  <tbody>\n",
       "    <tr>\n",
       "      <th>0</th>\n",
       "      <td>0.0</td>\n",
       "      <td>-2.196320</td>\n",
       "      <td>0.000000</td>\n",
       "    </tr>\n",
       "    <tr>\n",
       "      <th>1</th>\n",
       "      <td>0.1</td>\n",
       "      <td>-2.196320</td>\n",
       "      <td>0.000000</td>\n",
       "    </tr>\n",
       "    <tr>\n",
       "      <th>2</th>\n",
       "      <td>0.2</td>\n",
       "      <td>-2.196320</td>\n",
       "      <td>0.000000</td>\n",
       "    </tr>\n",
       "    <tr>\n",
       "      <th>3</th>\n",
       "      <td>0.3</td>\n",
       "      <td>-2.196320</td>\n",
       "      <td>0.000000</td>\n",
       "    </tr>\n",
       "    <tr>\n",
       "      <th>4</th>\n",
       "      <td>0.4</td>\n",
       "      <td>-2.196320</td>\n",
       "      <td>0.000000</td>\n",
       "    </tr>\n",
       "    <tr>\n",
       "      <th>...</th>\n",
       "      <td>...</td>\n",
       "      <td>...</td>\n",
       "      <td>...</td>\n",
       "    </tr>\n",
       "    <tr>\n",
       "      <th>96</th>\n",
       "      <td>9.6</td>\n",
       "      <td>-2.012171</td>\n",
       "      <td>0.032949</td>\n",
       "    </tr>\n",
       "    <tr>\n",
       "      <th>97</th>\n",
       "      <td>9.7</td>\n",
       "      <td>-1.441347</td>\n",
       "      <td>0.032949</td>\n",
       "    </tr>\n",
       "    <tr>\n",
       "      <th>98</th>\n",
       "      <td>9.8</td>\n",
       "      <td>-0.982419</td>\n",
       "      <td>0.032949</td>\n",
       "    </tr>\n",
       "    <tr>\n",
       "      <th>99</th>\n",
       "      <td>9.9</td>\n",
       "      <td>-0.759304</td>\n",
       "      <td>0.032949</td>\n",
       "    </tr>\n",
       "    <tr>\n",
       "      <th>100</th>\n",
       "      <td>10.0</td>\n",
       "      <td>-0.629835</td>\n",
       "      <td>0.032949</td>\n",
       "    </tr>\n",
       "  </tbody>\n",
       "</table>\n",
       "<p>101 rows × 3 columns</p>\n",
       "</div>"
      ],
      "text/plain": [
       "     time       <z>       <H>\n",
       "0     0.0 -2.196320  0.000000\n",
       "1     0.1 -2.196320  0.000000\n",
       "2     0.2 -2.196320  0.000000\n",
       "3     0.3 -2.196320  0.000000\n",
       "4     0.4 -2.196320  0.000000\n",
       "..    ...       ...       ...\n",
       "96    9.6 -2.012171  0.032949\n",
       "97    9.7 -1.441347  0.032949\n",
       "98    9.8 -0.982419  0.032949\n",
       "99    9.9 -0.759304  0.032949\n",
       "100  10.0 -0.629835  0.032949\n",
       "\n",
       "[101 rows x 3 columns]"
      ]
     },
     "execution_count": 9,
     "metadata": {},
     "output_type": "execute_result"
    }
   ],
   "source": [
    "# eliminate columns based on the variance: if the variance of the values\n",
    "# in a column is below a given threshold, that column is discarded\n",
    "def remove_vars_with_low_variance(df, threshv):\n",
    "    variables_below_var_thresh = df.var()[df.var() < threshv].index.values\n",
    "    return df.drop(variables_below_var_thresh, axis = 1)\n",
    "\n",
    "expect_reduced = remove_vars_with_low_variance(expect, threshv)\n",
    "expect_reduced"
   ]
  },
  {
   "cell_type": "markdown",
   "metadata": {},
   "source": [
    "### Task 2: Create plots of the relevant data and save as .pdf."
   ]
  },
  {
   "cell_type": "code",
   "execution_count": 10,
   "metadata": {},
   "outputs": [
    {
     "name": "stdout",
     "output_type": "stream",
     "text": [
      "Saving figure at ../plots/expect_z_over_time.pdf\n"
     ]
    },
    {
     "data": {
      "image/png": "[encoded data removed]",
      "text/plain": [
       "<Figure size 432x288 with 1 Axes>"
      ]
     },
     "metadata": {
      "needs_background": "light"
     },
     "output_type": "display_data"
    }
   ],
   "source": [
    "# create plots\n",
    "z_time_plot = sn.lineplot(data = expect_reduced, x = \"time\", y = \"<z>\")\n",
    "save_plot(z_time_plot, plotdir, \"expect_z_over_time.pdf\")\n",
    "\n"
   ]
  },
  {
   "cell_type": "code",
   "execution_count": 11,
   "metadata": {},
   "outputs": [
    {
     "name": "stdout",
     "output_type": "stream",
     "text": [
      "Saving figure at ../plots/expect_H_over_time.pdf\n"
     ]
    },
    {
     "data": {
      "image/png": "[encoded data removed]",
      "text/plain": [
       "<Figure size 432x288 with 1 Axes>"
      ]
     },
     "metadata": {
      "needs_background": "light"
     },
     "output_type": "display_data"
    }
   ],
   "source": [
    "H_time_plot = sn.lineplot(data = expect_reduced, x = \"time\", y = \"<H>\")\n",
    "save_plot(z_time_plot, plotdir, \"expect_H_over_time.pdf\")"
   ]
  },
  {
   "cell_type": "markdown",
   "metadata": {},
   "source": [
    "### Task 3: Read in file `npop.t` and analyze correlations in the data"
   ]
  },
  {
   "cell_type": "code",
   "execution_count": 12,
   "metadata": {},
   "outputs": [
    {
     "name": "stdout",
     "output_type": "stream",
     "text": [
      "Reading from file ../data/npop.t - pandas\n"
     ]
    },
    {
     "data": {
      "text/html": [
       "<div>\n",
       "<style scoped>\n",
       "    .dataframe tbody tr th:only-of-type {\n",
       "        vertical-align: middle;\n",
       "    }\n",
       "\n",
       "    .dataframe tbody tr th {\n",
       "        vertical-align: top;\n",
       "    }\n",
       "\n",
       "    .dataframe thead th {\n",
       "        text-align: right;\n",
       "    }\n",
       "</style>\n",
       "<table border=\"1\" class=\"dataframe\">\n",
       "  <thead>\n",
       "    <tr style=\"text-align: right;\">\n",
       "      <th></th>\n",
       "      <th>time</th>\n",
       "      <th>MO1</th>\n",
       "      <th>MO2</th>\n",
       "      <th>MO3</th>\n",
       "      <th>MO4</th>\n",
       "      <th>MO5</th>\n",
       "      <th>MO6</th>\n",
       "      <th>MO7</th>\n",
       "      <th>MO8</th>\n",
       "      <th>MO9</th>\n",
       "      <th>...</th>\n",
       "      <th>MO29</th>\n",
       "      <th>MO30</th>\n",
       "      <th>MO31</th>\n",
       "      <th>MO32</th>\n",
       "      <th>MO33</th>\n",
       "      <th>MO34</th>\n",
       "      <th>MO35</th>\n",
       "      <th>MO36</th>\n",
       "      <th>MO37</th>\n",
       "      <th>MO38</th>\n",
       "    </tr>\n",
       "  </thead>\n",
       "  <tbody>\n",
       "    <tr>\n",
       "      <th>0</th>\n",
       "      <td>0.0</td>\n",
       "      <td>0.999974</td>\n",
       "      <td>0.999892</td>\n",
       "      <td>0.976819</td>\n",
       "      <td>0.97633</td>\n",
       "      <td>0.000708</td>\n",
       "      <td>0.005711</td>\n",
       "      <td>0.000158</td>\n",
       "      <td>0.00092</td>\n",
       "      <td>0.000158</td>\n",
       "      <td>...</td>\n",
       "      <td>0.000815</td>\n",
       "      <td>0.000514</td>\n",
       "      <td>0.004893</td>\n",
       "      <td>0.001388</td>\n",
       "      <td>0.000469</td>\n",
       "      <td>0.000193</td>\n",
       "      <td>0.000469</td>\n",
       "      <td>0.000193</td>\n",
       "      <td>0.000401</td>\n",
       "      <td>0.000128</td>\n",
       "    </tr>\n",
       "    <tr>\n",
       "      <th>1</th>\n",
       "      <td>0.1</td>\n",
       "      <td>0.999974</td>\n",
       "      <td>0.999892</td>\n",
       "      <td>0.976819</td>\n",
       "      <td>0.97633</td>\n",
       "      <td>0.000708</td>\n",
       "      <td>0.005711</td>\n",
       "      <td>0.000158</td>\n",
       "      <td>0.00092</td>\n",
       "      <td>0.000158</td>\n",
       "      <td>...</td>\n",
       "      <td>0.000815</td>\n",
       "      <td>0.000514</td>\n",
       "      <td>0.004893</td>\n",
       "      <td>0.001388</td>\n",
       "      <td>0.000469</td>\n",
       "      <td>0.000193</td>\n",
       "      <td>0.000469</td>\n",
       "      <td>0.000193</td>\n",
       "      <td>0.000401</td>\n",
       "      <td>0.000128</td>\n",
       "    </tr>\n",
       "    <tr>\n",
       "      <th>2</th>\n",
       "      <td>0.2</td>\n",
       "      <td>0.999974</td>\n",
       "      <td>0.999892</td>\n",
       "      <td>0.976819</td>\n",
       "      <td>0.97633</td>\n",
       "      <td>0.000708</td>\n",
       "      <td>0.005711</td>\n",
       "      <td>0.000158</td>\n",
       "      <td>0.00092</td>\n",
       "      <td>0.000158</td>\n",
       "      <td>...</td>\n",
       "      <td>0.000815</td>\n",
       "      <td>0.000514</td>\n",
       "      <td>0.004893</td>\n",
       "      <td>0.001388</td>\n",
       "      <td>0.000469</td>\n",
       "      <td>0.000193</td>\n",
       "      <td>0.000469</td>\n",
       "      <td>0.000193</td>\n",
       "      <td>0.000401</td>\n",
       "      <td>0.000128</td>\n",
       "    </tr>\n",
       "    <tr>\n",
       "      <th>3</th>\n",
       "      <td>0.3</td>\n",
       "      <td>0.999974</td>\n",
       "      <td>0.999892</td>\n",
       "      <td>0.976819</td>\n",
       "      <td>0.97633</td>\n",
       "      <td>0.000708</td>\n",
       "      <td>0.005711</td>\n",
       "      <td>0.000158</td>\n",
       "      <td>0.00092</td>\n",
       "      <td>0.000158</td>\n",
       "      <td>...</td>\n",
       "      <td>0.000815</td>\n",
       "      <td>0.000514</td>\n",
       "      <td>0.004893</td>\n",
       "      <td>0.001388</td>\n",
       "      <td>0.000469</td>\n",
       "      <td>0.000193</td>\n",
       "      <td>0.000469</td>\n",
       "      <td>0.000193</td>\n",
       "      <td>0.000401</td>\n",
       "      <td>0.000128</td>\n",
       "    </tr>\n",
       "    <tr>\n",
       "      <th>4</th>\n",
       "      <td>0.4</td>\n",
       "      <td>0.999974</td>\n",
       "      <td>0.999892</td>\n",
       "      <td>0.976819</td>\n",
       "      <td>0.97633</td>\n",
       "      <td>0.000708</td>\n",
       "      <td>0.005711</td>\n",
       "      <td>0.000158</td>\n",
       "      <td>0.00092</td>\n",
       "      <td>0.000158</td>\n",
       "      <td>...</td>\n",
       "      <td>0.000815</td>\n",
       "      <td>0.000514</td>\n",
       "      <td>0.004893</td>\n",
       "      <td>0.001388</td>\n",
       "      <td>0.000469</td>\n",
       "      <td>0.000193</td>\n",
       "      <td>0.000469</td>\n",
       "      <td>0.000193</td>\n",
       "      <td>0.000401</td>\n",
       "      <td>0.000128</td>\n",
       "    </tr>\n",
       "  </tbody>\n",
       "</table>\n",
       "<p>5 rows × 39 columns</p>\n",
       "</div>"
      ],
      "text/plain": [
       "   time       MO1       MO2       MO3      MO4       MO5       MO6       MO7  \\\n",
       "0   0.0  0.999974  0.999892  0.976819  0.97633  0.000708  0.005711  0.000158   \n",
       "1   0.1  0.999974  0.999892  0.976819  0.97633  0.000708  0.005711  0.000158   \n",
       "2   0.2  0.999974  0.999892  0.976819  0.97633  0.000708  0.005711  0.000158   \n",
       "3   0.3  0.999974  0.999892  0.976819  0.97633  0.000708  0.005711  0.000158   \n",
       "4   0.4  0.999974  0.999892  0.976819  0.97633  0.000708  0.005711  0.000158   \n",
       "\n",
       "       MO8       MO9  ...      MO29      MO30      MO31      MO32      MO33  \\\n",
       "0  0.00092  0.000158  ...  0.000815  0.000514  0.004893  0.001388  0.000469   \n",
       "1  0.00092  0.000158  ...  0.000815  0.000514  0.004893  0.001388  0.000469   \n",
       "2  0.00092  0.000158  ...  0.000815  0.000514  0.004893  0.001388  0.000469   \n",
       "3  0.00092  0.000158  ...  0.000815  0.000514  0.004893  0.001388  0.000469   \n",
       "4  0.00092  0.000158  ...  0.000815  0.000514  0.004893  0.001388  0.000469   \n",
       "\n",
       "       MO34      MO35      MO36      MO37      MO38  \n",
       "0  0.000193  0.000469  0.000193  0.000401  0.000128  \n",
       "1  0.000193  0.000469  0.000193  0.000401  0.000128  \n",
       "2  0.000193  0.000469  0.000193  0.000401  0.000128  \n",
       "3  0.000193  0.000469  0.000193  0.000401  0.000128  \n",
       "4  0.000193  0.000469  0.000193  0.000401  0.000128  \n",
       "\n",
       "[5 rows x 39 columns]"
      ]
     },
     "execution_count": 12,
     "metadata": {},
     "output_type": "execute_result"
    }
   ],
   "source": [
    " # read in npop.t\n",
    "npopt = read_df(filedir, filenames[2])\n",
    "npopt.head()"
   ]
  },
  {
   "cell_type": "code",
   "execution_count": 13,
   "metadata": {
    "scrolled": true
   },
   "outputs": [],
   "source": [
    "# discard all columns with variance below a set threshold - we can consider them as constant\n",
    "npopt_reduced = remove_vars_with_low_variance(npopt, threshv)"
   ]
  },
  {
   "cell_type": "code",
   "execution_count": 14,
   "metadata": {},
   "outputs": [
    {
     "data": {
      "text/html": [
       "<div>\n",
       "<style scoped>\n",
       "    .dataframe tbody tr th:only-of-type {\n",
       "        vertical-align: middle;\n",
       "    }\n",
       "\n",
       "    .dataframe tbody tr th {\n",
       "        vertical-align: top;\n",
       "    }\n",
       "\n",
       "    .dataframe thead th {\n",
       "        text-align: right;\n",
       "    }\n",
       "</style>\n",
       "<table border=\"1\" class=\"dataframe\">\n",
       "  <thead>\n",
       "    <tr style=\"text-align: right;\">\n",
       "      <th></th>\n",
       "      <th>time</th>\n",
       "      <th>variable</th>\n",
       "      <th>value</th>\n",
       "    </tr>\n",
       "  </thead>\n",
       "  <tbody>\n",
       "    <tr>\n",
       "      <th>0</th>\n",
       "      <td>0.0</td>\n",
       "      <td>MO3</td>\n",
       "      <td>0.976819</td>\n",
       "    </tr>\n",
       "    <tr>\n",
       "      <th>1</th>\n",
       "      <td>0.1</td>\n",
       "      <td>MO3</td>\n",
       "      <td>0.976819</td>\n",
       "    </tr>\n",
       "    <tr>\n",
       "      <th>2</th>\n",
       "      <td>0.2</td>\n",
       "      <td>MO3</td>\n",
       "      <td>0.976819</td>\n",
       "    </tr>\n",
       "    <tr>\n",
       "      <th>3</th>\n",
       "      <td>0.3</td>\n",
       "      <td>MO3</td>\n",
       "      <td>0.976819</td>\n",
       "    </tr>\n",
       "    <tr>\n",
       "      <th>4</th>\n",
       "      <td>0.4</td>\n",
       "      <td>MO3</td>\n",
       "      <td>0.976819</td>\n",
       "    </tr>\n",
       "  </tbody>\n",
       "</table>\n",
       "</div>"
      ],
      "text/plain": [
       "   time variable     value\n",
       "0   0.0      MO3  0.976819\n",
       "1   0.1      MO3  0.976819\n",
       "2   0.2      MO3  0.976819\n",
       "3   0.3      MO3  0.976819\n",
       "4   0.4      MO3  0.976819"
      ]
     },
     "execution_count": 14,
     "metadata": {},
     "output_type": "execute_result"
    }
   ],
   "source": [
    "#transform from wide to long format\n",
    "npopt_reduced_long = pd.melt(npopt_reduced, id_vars=\"time\")\n",
    "npopt_reduced_long.head()"
   ]
  },
  {
   "cell_type": "markdown",
   "metadata": {},
   "source": [
    "Plot the remaining columns. Seaborn prefers \"long format\" (one column for all measurement values, one column to indicate the type) as input, whereas the cvs is in \"wide format\" (one column per measurement type)."
   ]
  },
  {
   "cell_type": "code",
   "execution_count": 15,
   "metadata": {},
   "outputs": [
    {
     "name": "stdout",
     "output_type": "stream",
     "text": [
      "Saving figure at ../plots/npopt_time_course.pdf\n"
     ]
    },
    {
     "data": {
      "image/png": "[encoded data removed]",
      "text/plain": [
       "<Figure size 432x288 with 1 Axes>"
      ]
     },
     "metadata": {
      "needs_background": "light"
     },
     "output_type": "display_data"
    }
   ],
   "source": [
    "# plot with seaborn from long format\n",
    "pl = sn.lineplot(data = npopt_reduced_long, x = \"time\", y = \"value\", hue = \"variable\")\n",
    "save_plot(pl, plotdir, \"npopt_time_course.pdf\")"
   ]
  },
  {
   "cell_type": "markdown",
   "metadata": {},
   "source": [
    "## Quantify the pairwise correlation in the data\n",
    "\n",
    "- negative correlation: y values decrease for increasing x - large values of one feature correspond to small values of the other feature\n",
    "- weak or no correlation: no trend observable, association between two features is hardly observable\n",
    "- positive correlation: y values increase for decreasing x - small values of one feature correspond to small values of the other feature\n",
    "\n",
    "Remember that correlation does not indicate causation - the reason that two features are associated can lie in their dependence on same factors.\n",
    "\n",
    "Correlate the value pairs using Pearson's $r$. Pearson's $r$ is a measure of the linear relationship between features:\n",
    "\n",
    "$r = \\frac{\\sum_i(x_i − \\bar{x})(y_i − \\bar{y})}{\\sqrt{\\sum_i(x_i − \\bar{x})^2 \\sum_i(y_i − \\bar{y})^2}}$\n",
    "\n",
    "Here, $\\bar{x}$ and $\\bar{y}$ indicate mean values. $i$ runs over the whole data set. For a positive correlation, $r$ is positive, and negative for a negative correlation, with minimum and maximum values of -1 and 1, indicating a perfectly linear relationship. Weakly or not correlated features are characterized by $r$-values close to 0.\n",
    "\n",
    "Other measures of correlation that can be used are Spearman's rank (value pairs follow monotonic function) or Kendall's $\\tau$ (measures ordinal association), but they do not apply here. You can also define measures yourself."
   ]
  },
  {
   "cell_type": "code",
   "execution_count": 16,
   "metadata": {},
   "outputs": [
    {
     "data": {
      "text/plain": [
       "<AxesSubplot:>"
      ]
     },
     "execution_count": 16,
     "metadata": {},
     "output_type": "execute_result"
    },
    {
     "data": {
      "image/png": "[encoded data removed]",
      "text/plain": [
       "<Figure size 432x288 with 2 Axes>"
      ]
     },
     "metadata": {
      "needs_background": "light"
     },
     "output_type": "display_data"
    }
   ],
   "source": [
    "# print the correlation matrix\n",
    "npopt_wo_time = npopt_reduced.drop([\"time\"], axis = 1)\n",
    "cm = npopt_wo_time.corr(method = \"pearson\")\n",
    "sn.heatmap(cm)"
   ]
  },
  {
   "cell_type": "markdown",
   "metadata": {},
   "source": [
    "The diagonal values tell us that each value is perfectly correlated with itself. We are not interested in the diagonal values and also not in the correlation with time. We also need to get rid of redundant entries. Finally, we need to find the value pairs that exhibit the highest linear correlation. We still want to know if it is positive or negative correlation, so we cannot get rid of the sign."
   ]
  },
  {
   "cell_type": "code",
   "execution_count": 17,
   "metadata": {},
   "outputs": [
    {
     "name": "stdout",
     "output_type": "stream",
     "text": [
      "Saving figure at ../plots/correlation_heatmap.pdf\n"
     ]
    },
    {
     "data": {
      "image/png": "[encoded data removed]",
      "text/plain": [
       "<Figure size 432x288 with 2 Axes>"
      ]
     },
     "metadata": {
      "needs_background": "light"
     },
     "output_type": "display_data"
    }
   ],
   "source": [
    "# get rid of lower triangular and diagonal entries of the correlation matrix\n",
    "def upper_triangle(mat):\n",
    "    sh = mat.shape\n",
    "    for i in range(sh[0]):\n",
    "        for j in range(sh[1]):\n",
    "            if i >= j:\n",
    "                mat.iloc[i,j] = np.nan\n",
    "    return mat\n",
    "cm = upper_triangle(cm)\n",
    "\n",
    "hm = sn.heatmap(cm)\n",
    "save_plot(hm, plotdir, \"correlation_heatmap.pdf\")"
   ]
  },
  {
   "cell_type": "code",
   "execution_count": 18,
   "metadata": {
    "scrolled": true
   },
   "outputs": [
    {
     "data": {
      "text/html": [
       "<div>\n",
       "<style scoped>\n",
       "    .dataframe tbody tr th:only-of-type {\n",
       "        vertical-align: middle;\n",
       "    }\n",
       "\n",
       "    .dataframe tbody tr th {\n",
       "        vertical-align: top;\n",
       "    }\n",
       "\n",
       "    .dataframe thead th {\n",
       "        text-align: right;\n",
       "    }\n",
       "</style>\n",
       "<table border=\"1\" class=\"dataframe\">\n",
       "  <thead>\n",
       "    <tr style=\"text-align: right;\">\n",
       "      <th></th>\n",
       "      <th>sample1</th>\n",
       "      <th>sample2</th>\n",
       "      <th>corr_coeff</th>\n",
       "      <th>abs_corr_coeff</th>\n",
       "    </tr>\n",
       "  </thead>\n",
       "  <tbody>\n",
       "    <tr>\n",
       "      <th>18</th>\n",
       "      <td>MO3</td>\n",
       "      <td>MO11</td>\n",
       "      <td>-0.966070</td>\n",
       "      <td>0.966070</td>\n",
       "    </tr>\n",
       "    <tr>\n",
       "      <th>13</th>\n",
       "      <td>MO4</td>\n",
       "      <td>MO6</td>\n",
       "      <td>-0.964051</td>\n",
       "      <td>0.964051</td>\n",
       "    </tr>\n",
       "    <tr>\n",
       "      <th>6</th>\n",
       "      <td>MO3</td>\n",
       "      <td>MO4</td>\n",
       "      <td>0.926317</td>\n",
       "      <td>0.926317</td>\n",
       "    </tr>\n",
       "    <tr>\n",
       "      <th>12</th>\n",
       "      <td>MO3</td>\n",
       "      <td>MO6</td>\n",
       "      <td>-0.907659</td>\n",
       "      <td>0.907659</td>\n",
       "    </tr>\n",
       "    <tr>\n",
       "      <th>27</th>\n",
       "      <td>MO11</td>\n",
       "      <td>MO12</td>\n",
       "      <td>0.855583</td>\n",
       "      <td>0.855583</td>\n",
       "    </tr>\n",
       "  </tbody>\n",
       "</table>\n",
       "</div>"
      ],
      "text/plain": [
       "   sample1 sample2  corr_coeff  abs_corr_coeff\n",
       "18     MO3    MO11   -0.966070        0.966070\n",
       "13     MO4     MO6   -0.964051        0.964051\n",
       "6      MO3     MO4    0.926317        0.926317\n",
       "12     MO3     MO6   -0.907659        0.907659\n",
       "27    MO11    MO12    0.855583        0.855583"
      ]
     },
     "execution_count": 18,
     "metadata": {},
     "output_type": "execute_result"
    }
   ],
   "source": [
    "# sort the remaing values according to their absolute value, but keep the sign\n",
    "def sort_corrs_by_abs_val(mat):\n",
    "    #helper column\n",
    "    mat[\"sample\"] = mat.index\n",
    "    #flatten df\n",
    "    mat_flat = mat.melt(id_vars = \"sample\")\n",
    "    #sort out the unneccessary (which are nan) \n",
    "    idx_to_drop = mat_flat.index[np.isnan(mat_flat.value)].values\n",
    "    mat_flat = mat_flat.drop(idx_to_drop,axis = 0)\n",
    "    #helper column for absolute values\n",
    "    mat_flat[\"abs_val\"] = abs(mat_flat.value)\n",
    "    mat_flat = mat_flat.sort_values(by=\"abs_val\", ascending=False)\n",
    "    return mat_flat\n",
    "\n",
    "sorted_corrs = sort_corrs_by_abs_val(cm)\n",
    "\n",
    "#put descriptive names\n",
    "sorted_corrs = sorted_corrs.rename(columns = {\"sample\":\"sample1\",\"variable\":\"sample2\", \"value\":\"corr_coeff\", \"abs_val\":\"abs_corr_coeff\"})\n",
    "sorted_corrs.head()"
   ]
  },
  {
   "cell_type": "markdown",
   "metadata": {},
   "source": [
    "Note that the entries in the left column are not repeated if they do not change from the row above (so the fourth feature pair is MO3 and MO6)."
   ]
  },
  {
   "cell_type": "markdown",
   "metadata": {},
   "source": [
    "### Task 4: Print the resulting data to a file"
   ]
  },
  {
   "cell_type": "code",
   "execution_count": 19,
   "metadata": {},
   "outputs": [
    {
     "name": "stdout",
     "output_type": "stream",
     "text": [
      "Saving data at ../data/npopt_correlations_sorted.csv\n"
     ]
    }
   ],
   "source": [
    "# write to file\n",
    "def save_df(df, filedir, filename):\n",
    "    print('Saving data at {}{}'.format(filedir,filename))\n",
    "    df.to_csv('{}{}'.format(filedir, filename), index=False)\n",
    "    return\n",
    "\n",
    "filename = \"npopt_correlations_sorted.csv\"\n",
    "save_df(sorted_corrs, filedir, filename)"
   ]
  },
  {
   "cell_type": "markdown",
   "metadata": {},
   "source": [
    "### Task 5: Calculate the Euclidean distance (L2 norm) for the vectors in `table.dat`\n",
    "\n",
    "\n",
    "The Euclidean distance measures the distance between to objects that are not points:\n",
    "\n",
    "$d(p,q) = \\sqrt{\\left(p-q\\right)^2}$\n",
    "\n",
    "In this case, consider each of the columns in table.dat as a vector in Euclidean space, where column $r(x)$ and column $v(x)$ denote a pair of vectors that should be compared, as well as $r(y)$ and $v(y)$, and r(z) and v(z).\n",
    "\n",
    "(Background: These are dipole moment components in different gauges, the length and velocity gauge.)"
   ]
  },
  {
   "cell_type": "code",
   "execution_count": 20,
   "metadata": {},
   "outputs": [
    {
     "name": "stdout",
     "output_type": "stream",
     "text": [
      "Reading from file ../data/table.dat - numpy\n"
     ]
    }
   ],
   "source": [
    "# read in table.dat - I suggest reading it as a numpy array\n",
    "table = read_np(filedir, filenames[4])\n",
    "\n",
    "# replace the NaNs by zero\n",
    "table[np.isnan(table)] = 0\n",
    "\n",
    "\n",
    "\n"
   ]
  },
  {
   "cell_type": "markdown",
   "metadata": {},
   "source": [
    "Now calculate how different the vectors in column 2 are from column 3, column 4 from column 5, and column 6 from column 7."
   ]
  },
  {
   "cell_type": "code",
   "execution_count": 21,
   "metadata": {},
   "outputs": [],
   "source": [
    "# calculate the Euclidean distance\n",
    "def euclid_distance_between_rows(array,index1,index2):\n",
    "    v1 = array[index1,:]\n",
    "    v2 = array[index2,:]\n",
    "    return np.linalg.norm(v1 - v2)\n",
    "    \n",
    "\n",
    "rows1 =[2,4,6]\n",
    "rows2 = [3,5,7]\n",
    "distances = np.zeros_like(rows1)\n",
    "\n",
    "for i, i1,i2 in zip(range(len(rows1)),rows1, rows2):\n",
    "    distances[i] = euclid_distance_between_rows(table, i1,i2)"
   ]
  },
  {
   "cell_type": "code",
   "execution_count": 22,
   "metadata": {},
   "outputs": [
    {
     "name": "stdout",
     "output_type": "stream",
     "text": [
      "Saving figure at ../plots/eucl_distances_in_3_dims.pdf\n"
     ]
    },
    {
     "data": {
      "image/png": "[encoded data removed]",
      "text/plain": [
       "<Figure size 432x288 with 1 Axes>"
      ]
     },
     "metadata": {
      "needs_background": "light"
     },
     "output_type": "display_data"
    }
   ],
   "source": [
    "# plot the result and save to a .pdf\n",
    "pl = sn.barplot(x = [\"x-direction\", \"y-direction\", \"z-direction\"], y = distances)\n",
    "pl.set_title(\"Euclidian Distance in all spatial dimensions\")\n",
    "pl.set_ylabel(\"D\")\n",
    "\n",
    "filename = \"eucl_distances_in_3_dims.pdf\"\n",
    "save_plot(pl,plotdir, filename)"
   ]
  },
  {
   "cell_type": "code",
   "execution_count": 23,
   "metadata": {},
   "outputs": [
    {
     "name": "stdout",
     "output_type": "stream",
     "text": [
      "Saving data to ../data/eucl_distances_in_3_dims.out\n"
     ]
    }
   ],
   "source": [
    "# print the result to a file\n",
    "def save_np_to_file(nparray, filedir, filename):\n",
    "    name = \"{}{}\".format(filedir, filename)\n",
    "    print(\"Saving data to {}\".format(name))\n",
    "    np.savetxt(fname = name, X = nparray)\n",
    "    return\n",
    "filename = \"eucl_distances_in_3_dims.out\"\n",
    "save_np_to_file(distances, filedir, filename)"
   ]
  },
  {
   "cell_type": "markdown",
   "metadata": {},
   "source": [
    "# Numerical analysis\n",
    "\n",
    "Analyze the data using autocorrelation functions and discrete Fourier transforms. Plot your results."
   ]
  },
  {
   "cell_type": "markdown",
   "metadata": {},
   "source": [
    "### Task 1: Read in `efield.t` and Fourier-transform relevant columns"
   ]
  },
  {
   "cell_type": "code",
   "execution_count": 24,
   "metadata": {},
   "outputs": [
    {
     "name": "stdout",
     "output_type": "stream",
     "text": [
      "Reading from file ../data/efield.t - pandas\n"
     ]
    },
    {
     "data": {
      "text/plain": [
       "<seaborn.axisgrid.PairGrid at 0x7ffa0c19f640>"
      ]
     },
     "execution_count": 24,
     "metadata": {},
     "output_type": "execute_result"
    },
    {
     "data": {
      "image/png": "[encoded data removed]",
      "text/plain": [
       "<Figure size 720x720 with 20 Axes>"
      ]
     },
     "metadata": {
      "needs_background": "light"
     },
     "output_type": "display_data"
    }
   ],
   "source": [
    "# read and plot efield.t\n",
    "efield = read_df(filedir, filenames[0])\n",
    "sn.pairplot(efield)"
   ]
  },
  {
   "cell_type": "markdown",
   "metadata": {},
   "source": [
    "Here we are interested in column 2 since the others are constant."
   ]
  },
  {
   "cell_type": "code",
   "execution_count": 25,
   "metadata": {},
   "outputs": [
    {
     "data": {
      "text/html": [
       "<div>\n",
       "<style scoped>\n",
       "    .dataframe tbody tr th:only-of-type {\n",
       "        vertical-align: middle;\n",
       "    }\n",
       "\n",
       "    .dataframe tbody tr th {\n",
       "        vertical-align: top;\n",
       "    }\n",
       "\n",
       "    .dataframe thead th {\n",
       "        text-align: right;\n",
       "    }\n",
       "</style>\n",
       "<table border=\"1\" class=\"dataframe\">\n",
       "  <thead>\n",
       "    <tr style=\"text-align: right;\">\n",
       "      <th></th>\n",
       "      <th>time</th>\n",
       "      <th>y</th>\n",
       "    </tr>\n",
       "  </thead>\n",
       "  <tbody>\n",
       "    <tr>\n",
       "      <th>0</th>\n",
       "      <td>0.0</td>\n",
       "      <td>0.0</td>\n",
       "    </tr>\n",
       "    <tr>\n",
       "      <th>1</th>\n",
       "      <td>0.1</td>\n",
       "      <td>0.0</td>\n",
       "    </tr>\n",
       "    <tr>\n",
       "      <th>2</th>\n",
       "      <td>0.2</td>\n",
       "      <td>0.0</td>\n",
       "    </tr>\n",
       "    <tr>\n",
       "      <th>3</th>\n",
       "      <td>0.3</td>\n",
       "      <td>0.0</td>\n",
       "    </tr>\n",
       "    <tr>\n",
       "      <th>4</th>\n",
       "      <td>0.4</td>\n",
       "      <td>0.0</td>\n",
       "    </tr>\n",
       "  </tbody>\n",
       "</table>\n",
       "</div>"
      ],
      "text/plain": [
       "   time    y\n",
       "0   0.0  0.0\n",
       "1   0.1  0.0\n",
       "2   0.2  0.0\n",
       "3   0.3  0.0\n",
       "4   0.4  0.0"
      ]
     },
     "execution_count": 25,
     "metadata": {},
     "output_type": "execute_result"
    }
   ],
   "source": [
    "# discard the columns with variance below threshold - these are considered constant\n",
    "efield_reduced = remove_vars_with_low_variance(efield, threshv)\n",
    "efield_reduced.head()"
   ]
  },
  {
   "cell_type": "code",
   "execution_count": 26,
   "metadata": {},
   "outputs": [],
   "source": [
    "# discrete Fourier transform of the remaining column: You only need the real frequencies\n",
    "def dft_real_df(data):\n",
    "    data_s = np.fft.rfft(data)\n",
    "    data_w = np.fft.rfftfreq(len(data.index))\n",
    "    return data_s, data_w\n",
    "efield_s, freq = dft_real_df(efield_reduced[\"y\"])\n"
   ]
  },
  {
   "cell_type": "markdown",
   "metadata": {},
   "source": [
    "### Task 2: Generate a plot of your results to be saved as pdf."
   ]
  },
  {
   "cell_type": "code",
   "execution_count": 27,
   "metadata": {},
   "outputs": [
    {
     "name": "stdout",
     "output_type": "stream",
     "text": [
      "Saving figure at ../plots/FT_efield_y.pdf\n"
     ]
    },
    {
     "data": {
      "image/png": "[encoded data removed]",
      "text/plain": [
       "<Figure size 432x288 with 1 Axes>"
      ]
     },
     "metadata": {
      "needs_background": "light"
     },
     "output_type": "display_data"
    }
   ],
   "source": [
    "# plot your results\n",
    "pl = sn.lineplot(x = freq, y = abs(efield_s)**2)\n",
    "pl.set_title(\"FT of efield in y\")\n",
    "save_plot(pl, plotdir, \"FT_efield_y.pdf\")"
   ]
  },
  {
   "cell_type": "markdown",
   "metadata": {},
   "source": [
    "### Task 3: Calculate the autocorrelation function from nstate_i.t\n",
    "The autocorrelation function measures how correlated subsequent vectors are with an initial vector; ie. \n",
    "\n",
    "$\\Psi_{corr} = \\langle \\Psi(t=0) | \\Psi(t) \\rangle = \\int_0^{tfin} \\Psi(0)^* \\Psi(t) dt$\n",
    "\n",
    "Since we are in a numerical representation, the integral can be replaced with a sum; and the given vectors are already normalized."
   ]
  },
  {
   "cell_type": "code",
   "execution_count": 28,
   "metadata": {},
   "outputs": [
    {
     "name": "stdout",
     "output_type": "stream",
     "text": [
      "Reading from file ../data/nstate_i.t - numpy\n"
     ]
    }
   ],
   "source": [
    "# read in as numpy array\n",
    "nstate = read_np(filedir, filenames[3])"
   ]
  },
  {
   "cell_type": "code",
   "execution_count": 29,
   "metadata": {},
   "outputs": [
    {
     "data": {
      "text/plain": [
       "(480, 101)"
      ]
     },
     "execution_count": 29,
     "metadata": {},
     "output_type": "execute_result"
    }
   ],
   "source": [
    "# store the time column (column 0) in a vector and drop from array\n",
    "time = nstate[:,0]\n",
    "nstate = np.delete(nstate, 0, axis = 0)\n",
    "nstate.shape"
   ]
  },
  {
   "cell_type": "code",
   "execution_count": 30,
   "metadata": {},
   "outputs": [],
   "source": [
    "# correct the data representation: this is in fact a complex matrix\n",
    "# the real part of each matrix column is contained in numpy array column 0, 2, 4, 6, ...\n",
    "# the imaginary part of each matrix column is contained in numpy array column 1, 3, 5, 7, ...\n",
    "# convert the array that was read as dtype=float into a dtype=complex array\n",
    "\n",
    "def correct_matrix(mat):\n",
    "    r_parts = mat[0::2]\n",
    "    i_parts = mat[1::2]\n",
    "    return r_parts+ 1j* i_parts\n",
    "    \n",
    "corr_mat = correct_matrix(nstate)"
   ]
  },
  {
   "cell_type": "code",
   "execution_count": 31,
   "metadata": {},
   "outputs": [
    {
     "data": {
      "image/png": "[encoded data removed]",
      "text/plain": [
       "<Figure size 432x288 with 1 Axes>"
      ]
     },
     "metadata": {
      "needs_background": "light"
     },
     "output_type": "display_data"
    }
   ],
   "source": [
    "# for the autocorrelation function, we want the overlap between the first vector at time 0 and all \n",
    "# subsequent vectors at later times - the sum of the product of initial and subsequent vectors for each time step\n",
    "\n",
    "def calc_auto(wavef):\n",
    "    aucofu = np.zeros(len(wavef[0]),dtype = complex)\n",
    "    for i in range(0,len(wavef[0])):\n",
    "        aucofu[i] = np.sum(wavef[:,0]*np.conjugate(wavef[:,i]))\n",
    "    return aucofu\n",
    "\n",
    "aucofu = calc_auto(corr_mat)\n",
    "plt.plot(abs(aucofu**2))\n",
    "plt.show()"
   ]
  },
  {
   "cell_type": "markdown",
   "metadata": {},
   "source": [
    "### Task 4: Generate a plot of your results to be saved as pdf."
   ]
  },
  {
   "cell_type": "code",
   "execution_count": 37,
   "metadata": {},
   "outputs": [
    {
     "name": "stdout",
     "output_type": "stream",
     "text": [
      "Saving figure at ../plots/autocorrelation_function_nstate.pdf\n"
     ]
    },
    {
     "data": {
      "image/png": "[encoded data removed]",
      "text/plain": [
       "<Figure size 432x288 with 1 Axes>"
      ]
     },
     "metadata": {
      "needs_background": "light"
     },
     "output_type": "display_data"
    }
   ],
   "source": [
    "# plot the autocorrelation function - real, imaginary and absolute part\n",
    "def plot_aucofu(aucofu):\n",
    "    r = np.real(aucofu)\n",
    "    i = np.imag(aucofu)\n",
    "    a = abs(aucofu**2)\n",
    "    df = pd.DataFrame({\"real\":r, \"imag\":i, \"absolute\":a})\n",
    "    df[\"time\"] = df.index\n",
    "    df = df.melt(id_vars= \"time\")\n",
    "    pl = sn.lineplot(data = df, x = \"time\", y = \"value\", hue = \"variable\")\n",
    "    pl.set_ylabel(\"Autocorrelation\")\n",
    "    return pl\n",
    "\n",
    "pl = plot_aucofu(aucofu)\n",
    "name = \"autocorrelation_function_nstate.pdf\"\n",
    "save_plot(pl, plotdir, name)"
   ]
  },
  {
   "cell_type": "markdown",
   "metadata": {},
   "source": [
    "### Task 5: Discrete Fourier transform of the autocorrelation function"
   ]
  },
  {
   "cell_type": "code",
   "execution_count": 33,
   "metadata": {},
   "outputs": [],
   "source": [
    "# discrete Fourier-transform the autocorrelation function - now we need all frequency components, \n",
    "# also the negative ones\n",
    "def dft_np(array):\n",
    "    data_s = np.fft.fft(array)\n",
    "    freqs = np.fft.fftfreq(array.shape[0])\n",
    "    return data_s, freqs\n",
    "aucofu_ft, freq = dft_np(aucofu)"
   ]
  },
  {
   "cell_type": "markdown",
   "metadata": {},
   "source": [
    "### Task 6: Generate a plot of your results to be saved as pdf."
   ]
  },
  {
   "cell_type": "code",
   "execution_count": 35,
   "metadata": {},
   "outputs": [
    {
     "name": "stdout",
     "output_type": "stream",
     "text": [
      "Saving figure at ../plots/power_spectrum_of_aucofu.pdf\n"
     ]
    },
    {
     "data": {
      "image/png": "[encoded data removed]",
      "text/plain": [
       "<Figure size 432x288 with 1 Axes>"
      ]
     },
     "metadata": {
      "needs_background": "light"
     },
     "output_type": "display_data"
    }
   ],
   "source": [
    "# plot the power spectrum (abs**2)\n",
    "pl = sn.lineplot(x = freq, y = abs(aucofu_ft)**2)\n",
    "pl.set_ylim(-0.1,15)\n",
    "pl.set_xlabel(\"Frequency\")\n",
    "pl.set_ylabel(\"Energy\")\n",
    "name = \"power_spectrum_of_aucofu.pdf\"\n",
    "save_plot(pl, plotdir, name)"
   ]
  }
 ],
 "metadata": {
  "kernelspec": {
   "display_name": "Python 3",
   "language": "python",
   "name": "python3"
  },
  "language_info": {
   "codemirror_mode": {
    "name": "ipython",
    "version": 3
   },
   "file_extension": ".py",
   "mimetype": "text/x-python",
   "name": "python",
   "nbconvert_exporter": "python",
   "pygments_lexer": "ipython3",
   "version": "3.8.5"
  }
 },
 "nbformat": 4,
 "nbformat_minor": 4
}
