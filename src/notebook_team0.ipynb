{
 "cells": [
  {
   "cell_type": "markdown",
   "metadata": {},
   "source": [
    "# Start of the analysis notebook\n",
    "\n",
    "**Author : Inga Ulusoy**  \n",
    "*Date : March 2021*  \n",
    "*Affiliation : SSC*  \n",
    "\n",
    "Place the required modules in the top, followed by required constants and global functions."
   ]
  },
  {
   "cell_type": "code",
   "execution_count": 1,
   "metadata": {},
   "outputs": [],
   "source": [
    "# required modules\n",
    "import numpy as np\n",
    "import matplotlib.pyplot as plt\n",
    "import pandas as pd\n",
    "import seaborn as sn"
   ]
  },
  {
   "cell_type": "code",
   "execution_count": 2,
   "metadata": {},
   "outputs": [],
   "source": [
    "# constants and global functions\n",
    "# a tuple containing the file names\n",
    "filenames = 'npop.t', 'efield.t', 'expec.t', 'table.dat', 'nstate_i.t'\n",
    "filedir = '/home/jing/course/team13/data/'# if you run using jupyter\n",
    "# filedir = 'data/' # if you run using your IDE\n",
    "# variance threshold\n",
    "threshv = 1.0e-5"
   ]
  },
  {
   "cell_type": "code",
   "execution_count": 3,
   "metadata": {},
   "outputs": [],
   "source": [
    "def read_in_df(filedir, filename):\n",
    "    name = '{}{}'.format(filedir, filename)\n",
    "    print('Reading from file {} - pandas'.format(name))\n",
    "    data = pd.read_csv(name, r'\\s+')\n",
    "    return data\n",
    "def read_in_np(filedir, filename):\n",
    "    name = '{}{}'.format(filedir, filename)\n",
    "    print('Reading from file {} - numpy'.format(name))\n",
    "    data = np.loadtxt(name, skiprows=1)\n",
    "    data = data.T\n",
    "    return data"
   ]
  },
  {
   "cell_type": "markdown",
   "metadata": {},
   "source": [
    "# Statistical analysis\n",
    "\n",
    "Find correlations in the data sets. Analyse the data statistically and plot your results.  \n",
    "\n",
    "Here we would want to do everything with pandas and leave the data in a dataframe. The files that are relevant to you are `expect.t`, `npop.t` and `table.dat`."
   ]
  },
  {
   "cell_type": "markdown",
   "metadata": {},
   "source": [
    "### Task 1: Read in expect.t and plot relevant data"
   ]
  },
  {
   "cell_type": "code",
   "execution_count": 4,
   "metadata": {},
   "outputs": [
    {
     "name": "stdout",
     "output_type": "stream",
     "text": [
      "Reading from file /home/jing/course/team13/data/expec.t - pandas\n"
     ]
    },
    {
     "data": {
      "text/html": [
       "<div>\n",
       "<style scoped>\n",
       "    .dataframe tbody tr th:only-of-type {\n",
       "        vertical-align: middle;\n",
       "    }\n",
       "\n",
       "    .dataframe tbody tr th {\n",
       "        vertical-align: top;\n",
       "    }\n",
       "\n",
       "    .dataframe thead th {\n",
       "        text-align: right;\n",
       "    }\n",
       "</style>\n",
       "<table border=\"1\" class=\"dataframe\">\n",
       "  <thead>\n",
       "    <tr style=\"text-align: right;\">\n",
       "      <th></th>\n",
       "      <th>time</th>\n",
       "      <th>norm</th>\n",
       "      <th>&lt;x&gt;</th>\n",
       "      <th>&lt;y&gt;</th>\n",
       "      <th>&lt;z&gt;</th>\n",
       "      <th>&lt;H&gt;</th>\n",
       "    </tr>\n",
       "  </thead>\n",
       "  <tbody>\n",
       "    <tr>\n",
       "      <th>0</th>\n",
       "      <td>0.0</td>\n",
       "      <td>1.0</td>\n",
       "      <td>0.0</td>\n",
       "      <td>0.0</td>\n",
       "      <td>-2.19632</td>\n",
       "      <td>0.0</td>\n",
       "    </tr>\n",
       "    <tr>\n",
       "      <th>1</th>\n",
       "      <td>0.1</td>\n",
       "      <td>1.0</td>\n",
       "      <td>0.0</td>\n",
       "      <td>0.0</td>\n",
       "      <td>-2.19632</td>\n",
       "      <td>0.0</td>\n",
       "    </tr>\n",
       "    <tr>\n",
       "      <th>2</th>\n",
       "      <td>0.2</td>\n",
       "      <td>1.0</td>\n",
       "      <td>-0.0</td>\n",
       "      <td>0.0</td>\n",
       "      <td>-2.19632</td>\n",
       "      <td>0.0</td>\n",
       "    </tr>\n",
       "    <tr>\n",
       "      <th>3</th>\n",
       "      <td>0.3</td>\n",
       "      <td>1.0</td>\n",
       "      <td>-0.0</td>\n",
       "      <td>0.0</td>\n",
       "      <td>-2.19632</td>\n",
       "      <td>0.0</td>\n",
       "    </tr>\n",
       "    <tr>\n",
       "      <th>4</th>\n",
       "      <td>0.4</td>\n",
       "      <td>1.0</td>\n",
       "      <td>-0.0</td>\n",
       "      <td>0.0</td>\n",
       "      <td>-2.19632</td>\n",
       "      <td>0.0</td>\n",
       "    </tr>\n",
       "    <tr>\n",
       "      <th>5</th>\n",
       "      <td>0.5</td>\n",
       "      <td>1.0</td>\n",
       "      <td>-0.0</td>\n",
       "      <td>0.0</td>\n",
       "      <td>-2.19632</td>\n",
       "      <td>0.0</td>\n",
       "    </tr>\n",
       "    <tr>\n",
       "      <th>6</th>\n",
       "      <td>0.6</td>\n",
       "      <td>1.0</td>\n",
       "      <td>0.0</td>\n",
       "      <td>-0.0</td>\n",
       "      <td>-2.19632</td>\n",
       "      <td>0.0</td>\n",
       "    </tr>\n",
       "    <tr>\n",
       "      <th>7</th>\n",
       "      <td>0.7</td>\n",
       "      <td>1.0</td>\n",
       "      <td>-0.0</td>\n",
       "      <td>-0.0</td>\n",
       "      <td>-2.19632</td>\n",
       "      <td>0.0</td>\n",
       "    </tr>\n",
       "    <tr>\n",
       "      <th>8</th>\n",
       "      <td>0.8</td>\n",
       "      <td>1.0</td>\n",
       "      <td>-0.0</td>\n",
       "      <td>-0.0</td>\n",
       "      <td>-2.19632</td>\n",
       "      <td>0.0</td>\n",
       "    </tr>\n",
       "    <tr>\n",
       "      <th>9</th>\n",
       "      <td>0.9</td>\n",
       "      <td>1.0</td>\n",
       "      <td>-0.0</td>\n",
       "      <td>-0.0</td>\n",
       "      <td>-2.19632</td>\n",
       "      <td>0.0</td>\n",
       "    </tr>\n",
       "  </tbody>\n",
       "</table>\n",
       "</div>"
      ],
      "text/plain": [
       "   time  norm  <x>  <y>      <z>  <H>\n",
       "0   0.0   1.0  0.0  0.0 -2.19632  0.0\n",
       "1   0.1   1.0  0.0  0.0 -2.19632  0.0\n",
       "2   0.2   1.0 -0.0  0.0 -2.19632  0.0\n",
       "3   0.3   1.0 -0.0  0.0 -2.19632  0.0\n",
       "4   0.4   1.0 -0.0  0.0 -2.19632  0.0\n",
       "5   0.5   1.0 -0.0  0.0 -2.19632  0.0\n",
       "6   0.6   1.0  0.0 -0.0 -2.19632  0.0\n",
       "7   0.7   1.0 -0.0 -0.0 -2.19632  0.0\n",
       "8   0.8   1.0 -0.0 -0.0 -2.19632  0.0\n",
       "9   0.9   1.0 -0.0 -0.0 -2.19632  0.0"
      ]
     },
     "execution_count": 4,
     "metadata": {},
     "output_type": "execute_result"
    }
   ],
   "source": [
    "df_expec = read_in_df(filedir, filenames[2])\n",
    "df_expec.head(10)"
   ]
  },
  {
   "cell_type": "code",
   "execution_count": 5,
   "metadata": {},
   "outputs": [
    {
     "data": {
      "image/png": "[encoded data removed]",
      "text/plain": [
       "<Figure size 360x360 with 1 Axes>"
      ]
     },
     "metadata": {
      "needs_background": "light"
     },
     "output_type": "display_data"
    }
   ],
   "source": [
    "sn.relplot(data=df_expec, kind='line', x='time', y='<z>')\n",
    "plt.show()"
   ]
  },
  {
   "cell_type": "code",
   "execution_count": 6,
   "metadata": {},
   "outputs": [
    {
     "data": {
      "image/png": "[encoded data removed]",
      "text/plain": [
       "<Figure size 1080x1080 with 27 Axes>"
      ]
     },
     "metadata": {
      "needs_background": "light"
     },
     "output_type": "display_data"
    }
   ],
   "source": [
    "sn.pairplot(df_expec, corner=True)\n",
    "plt.show()"
   ]
  },
  {
   "cell_type": "markdown",
   "metadata": {},
   "source": [
    "We can discard the entries norm, \\<x>, and \\<y> as these are mostly constant."
   ]
  },
  {
   "cell_type": "code",
   "execution_count": null,
   "metadata": {},
   "outputs": [],
   "source": [
    "df_expec.drop(['norm', '<x>', '<y>'], axis=1)"
   ]
  },
  {
   "cell_type": "code",
   "execution_count": null,
   "metadata": {},
   "outputs": [],
   "source": [
    "df_expec.var()"
   ]
  },
  {
   "cell_type": "code",
   "execution_count": null,
   "metadata": {},
   "outputs": [],
   "source": [
    "# df_expec.drop(df_expec.var()[df_expec.var()<threshv].index.values, axis=1)\n",
    "# print(df_expec.var()<threshv) # this will return columns with variance below the threshold\n",
    "# df_expec.var()[df_expec.var()<threshv].index # this will return the index of those columns \n",
    "# df_expec.var()[df_expec.var()<threshv].index.values # this will return the index of those columns in an array\n",
    "# df_expec.drop(df_expec.var()[df_expec.var()<threshv].index.values) # we want to drop those columns\n",
    "df_expec.drop(df_expec.var()[df_expec.var()<threshv].index.values, axis=1) # but we have to pick the right axis (columns, not rows)"
   ]
  },
  {
   "cell_type": "code",
   "execution_count": 7,
   "metadata": {},
   "outputs": [],
   "source": [
    "def check_if_significant(data, thresh):\n",
    "    data_out = data.drop(data.var()[data.var()<thresh].index.values, axis=1)\n",
    "    indices = data.var()[data.var() > thresh].index.values\n",
    "    return data_out, indices"
   ]
  },
  {
   "cell_type": "code",
   "execution_count": 8,
   "metadata": {},
   "outputs": [
    {
     "data": {
      "text/html": [
       "<div>\n",
       "<style scoped>\n",
       "    .dataframe tbody tr th:only-of-type {\n",
       "        vertical-align: middle;\n",
       "    }\n",
       "\n",
       "    .dataframe tbody tr th {\n",
       "        vertical-align: top;\n",
       "    }\n",
       "\n",
       "    .dataframe thead th {\n",
       "        text-align: right;\n",
       "    }\n",
       "</style>\n",
       "<table border=\"1\" class=\"dataframe\">\n",
       "  <thead>\n",
       "    <tr style=\"text-align: right;\">\n",
       "      <th></th>\n",
       "      <th>time</th>\n",
       "      <th>&lt;z&gt;</th>\n",
       "      <th>&lt;H&gt;</th>\n",
       "    </tr>\n",
       "  </thead>\n",
       "  <tbody>\n",
       "    <tr>\n",
       "      <th>0</th>\n",
       "      <td>0.0</td>\n",
       "      <td>-2.19632</td>\n",
       "      <td>0.0</td>\n",
       "    </tr>\n",
       "    <tr>\n",
       "      <th>1</th>\n",
       "      <td>0.1</td>\n",
       "      <td>-2.19632</td>\n",
       "      <td>0.0</td>\n",
       "    </tr>\n",
       "    <tr>\n",
       "      <th>2</th>\n",
       "      <td>0.2</td>\n",
       "      <td>-2.19632</td>\n",
       "      <td>0.0</td>\n",
       "    </tr>\n",
       "    <tr>\n",
       "      <th>3</th>\n",
       "      <td>0.3</td>\n",
       "      <td>-2.19632</td>\n",
       "      <td>0.0</td>\n",
       "    </tr>\n",
       "    <tr>\n",
       "      <th>4</th>\n",
       "      <td>0.4</td>\n",
       "      <td>-2.19632</td>\n",
       "      <td>0.0</td>\n",
       "    </tr>\n",
       "  </tbody>\n",
       "</table>\n",
       "</div>"
      ],
      "text/plain": [
       "   time      <z>  <H>\n",
       "0   0.0 -2.19632  0.0\n",
       "1   0.1 -2.19632  0.0\n",
       "2   0.2 -2.19632  0.0\n",
       "3   0.3 -2.19632  0.0\n",
       "4   0.4 -2.19632  0.0"
      ]
     },
     "metadata": {},
     "output_type": "display_data"
    },
    {
     "name": "stdout",
     "output_type": "stream",
     "text": [
      "['time' '<z>' '<H>']\n"
     ]
    }
   ],
   "source": [
    "df_expec2, indices = check_if_significant(df_expec, threshv)\n",
    "display(df_expec2.head())\n",
    "print(indices)"
   ]
  },
  {
   "cell_type": "markdown",
   "metadata": {},
   "source": [
    "### Task 2: Create plots of the relevant data and save as .pdf."
   ]
  },
  {
   "cell_type": "code",
   "execution_count": null,
   "metadata": {},
   "outputs": [],
   "source": [
    "# I will leave this up to you."
   ]
  },
  {
   "cell_type": "markdown",
   "metadata": {},
   "source": [
    "### Task 3: Read in file `npop.t` and analyze correlations in the data"
   ]
  },
  {
   "cell_type": "code",
   "execution_count": 9,
   "metadata": {},
   "outputs": [
    {
     "name": "stdout",
     "output_type": "stream",
     "text": [
      "Reading from file /home/jing/course/team13/data/npop.t - pandas\n"
     ]
    },
    {
     "data": {
      "text/html": [
       "<div>\n",
       "<style scoped>\n",
       "    .dataframe tbody tr th:only-of-type {\n",
       "        vertical-align: middle;\n",
       "    }\n",
       "\n",
       "    .dataframe tbody tr th {\n",
       "        vertical-align: top;\n",
       "    }\n",
       "\n",
       "    .dataframe thead th {\n",
       "        text-align: right;\n",
       "    }\n",
       "</style>\n",
       "<table border=\"1\" class=\"dataframe\">\n",
       "  <thead>\n",
       "    <tr style=\"text-align: right;\">\n",
       "      <th></th>\n",
       "      <th>time</th>\n",
       "      <th>MO1</th>\n",
       "      <th>MO2</th>\n",
       "      <th>MO3</th>\n",
       "      <th>MO4</th>\n",
       "      <th>MO5</th>\n",
       "      <th>MO6</th>\n",
       "      <th>MO7</th>\n",
       "      <th>MO8</th>\n",
       "      <th>MO9</th>\n",
       "      <th>...</th>\n",
       "      <th>MO29</th>\n",
       "      <th>MO30</th>\n",
       "      <th>MO31</th>\n",
       "      <th>MO32</th>\n",
       "      <th>MO33</th>\n",
       "      <th>MO34</th>\n",
       "      <th>MO35</th>\n",
       "      <th>MO36</th>\n",
       "      <th>MO37</th>\n",
       "      <th>MO38</th>\n",
       "    </tr>\n",
       "  </thead>\n",
       "  <tbody>\n",
       "    <tr>\n",
       "      <th>0</th>\n",
       "      <td>0.0</td>\n",
       "      <td>0.999974</td>\n",
       "      <td>0.999892</td>\n",
       "      <td>0.976819</td>\n",
       "      <td>0.97633</td>\n",
       "      <td>0.000708</td>\n",
       "      <td>0.005711</td>\n",
       "      <td>0.000158</td>\n",
       "      <td>0.00092</td>\n",
       "      <td>0.000158</td>\n",
       "      <td>...</td>\n",
       "      <td>0.000815</td>\n",
       "      <td>0.000514</td>\n",
       "      <td>0.004893</td>\n",
       "      <td>0.001388</td>\n",
       "      <td>0.000469</td>\n",
       "      <td>0.000193</td>\n",
       "      <td>0.000469</td>\n",
       "      <td>0.000193</td>\n",
       "      <td>0.000401</td>\n",
       "      <td>0.000128</td>\n",
       "    </tr>\n",
       "    <tr>\n",
       "      <th>1</th>\n",
       "      <td>0.1</td>\n",
       "      <td>0.999974</td>\n",
       "      <td>0.999892</td>\n",
       "      <td>0.976819</td>\n",
       "      <td>0.97633</td>\n",
       "      <td>0.000708</td>\n",
       "      <td>0.005711</td>\n",
       "      <td>0.000158</td>\n",
       "      <td>0.00092</td>\n",
       "      <td>0.000158</td>\n",
       "      <td>...</td>\n",
       "      <td>0.000815</td>\n",
       "      <td>0.000514</td>\n",
       "      <td>0.004893</td>\n",
       "      <td>0.001388</td>\n",
       "      <td>0.000469</td>\n",
       "      <td>0.000193</td>\n",
       "      <td>0.000469</td>\n",
       "      <td>0.000193</td>\n",
       "      <td>0.000401</td>\n",
       "      <td>0.000128</td>\n",
       "    </tr>\n",
       "    <tr>\n",
       "      <th>2</th>\n",
       "      <td>0.2</td>\n",
       "      <td>0.999974</td>\n",
       "      <td>0.999892</td>\n",
       "      <td>0.976819</td>\n",
       "      <td>0.97633</td>\n",
       "      <td>0.000708</td>\n",
       "      <td>0.005711</td>\n",
       "      <td>0.000158</td>\n",
       "      <td>0.00092</td>\n",
       "      <td>0.000158</td>\n",
       "      <td>...</td>\n",
       "      <td>0.000815</td>\n",
       "      <td>0.000514</td>\n",
       "      <td>0.004893</td>\n",
       "      <td>0.001388</td>\n",
       "      <td>0.000469</td>\n",
       "      <td>0.000193</td>\n",
       "      <td>0.000469</td>\n",
       "      <td>0.000193</td>\n",
       "      <td>0.000401</td>\n",
       "      <td>0.000128</td>\n",
       "    </tr>\n",
       "    <tr>\n",
       "      <th>3</th>\n",
       "      <td>0.3</td>\n",
       "      <td>0.999974</td>\n",
       "      <td>0.999892</td>\n",
       "      <td>0.976819</td>\n",
       "      <td>0.97633</td>\n",
       "      <td>0.000708</td>\n",
       "      <td>0.005711</td>\n",
       "      <td>0.000158</td>\n",
       "      <td>0.00092</td>\n",
       "      <td>0.000158</td>\n",
       "      <td>...</td>\n",
       "      <td>0.000815</td>\n",
       "      <td>0.000514</td>\n",
       "      <td>0.004893</td>\n",
       "      <td>0.001388</td>\n",
       "      <td>0.000469</td>\n",
       "      <td>0.000193</td>\n",
       "      <td>0.000469</td>\n",
       "      <td>0.000193</td>\n",
       "      <td>0.000401</td>\n",
       "      <td>0.000128</td>\n",
       "    </tr>\n",
       "    <tr>\n",
       "      <th>4</th>\n",
       "      <td>0.4</td>\n",
       "      <td>0.999974</td>\n",
       "      <td>0.999892</td>\n",
       "      <td>0.976819</td>\n",
       "      <td>0.97633</td>\n",
       "      <td>0.000708</td>\n",
       "      <td>0.005711</td>\n",
       "      <td>0.000158</td>\n",
       "      <td>0.00092</td>\n",
       "      <td>0.000158</td>\n",
       "      <td>...</td>\n",
       "      <td>0.000815</td>\n",
       "      <td>0.000514</td>\n",
       "      <td>0.004893</td>\n",
       "      <td>0.001388</td>\n",
       "      <td>0.000469</td>\n",
       "      <td>0.000193</td>\n",
       "      <td>0.000469</td>\n",
       "      <td>0.000193</td>\n",
       "      <td>0.000401</td>\n",
       "      <td>0.000128</td>\n",
       "    </tr>\n",
       "    <tr>\n",
       "      <th>5</th>\n",
       "      <td>0.5</td>\n",
       "      <td>0.999974</td>\n",
       "      <td>0.999892</td>\n",
       "      <td>0.976819</td>\n",
       "      <td>0.97633</td>\n",
       "      <td>0.000708</td>\n",
       "      <td>0.005711</td>\n",
       "      <td>0.000158</td>\n",
       "      <td>0.00092</td>\n",
       "      <td>0.000158</td>\n",
       "      <td>...</td>\n",
       "      <td>0.000815</td>\n",
       "      <td>0.000514</td>\n",
       "      <td>0.004893</td>\n",
       "      <td>0.001388</td>\n",
       "      <td>0.000469</td>\n",
       "      <td>0.000193</td>\n",
       "      <td>0.000469</td>\n",
       "      <td>0.000193</td>\n",
       "      <td>0.000401</td>\n",
       "      <td>0.000128</td>\n",
       "    </tr>\n",
       "    <tr>\n",
       "      <th>6</th>\n",
       "      <td>0.6</td>\n",
       "      <td>0.999974</td>\n",
       "      <td>0.999892</td>\n",
       "      <td>0.976819</td>\n",
       "      <td>0.97633</td>\n",
       "      <td>0.000708</td>\n",
       "      <td>0.005711</td>\n",
       "      <td>0.000158</td>\n",
       "      <td>0.00092</td>\n",
       "      <td>0.000158</td>\n",
       "      <td>...</td>\n",
       "      <td>0.000815</td>\n",
       "      <td>0.000514</td>\n",
       "      <td>0.004893</td>\n",
       "      <td>0.001388</td>\n",
       "      <td>0.000469</td>\n",
       "      <td>0.000193</td>\n",
       "      <td>0.000469</td>\n",
       "      <td>0.000193</td>\n",
       "      <td>0.000401</td>\n",
       "      <td>0.000128</td>\n",
       "    </tr>\n",
       "    <tr>\n",
       "      <th>7</th>\n",
       "      <td>0.7</td>\n",
       "      <td>0.999974</td>\n",
       "      <td>0.999892</td>\n",
       "      <td>0.976819</td>\n",
       "      <td>0.97633</td>\n",
       "      <td>0.000708</td>\n",
       "      <td>0.005711</td>\n",
       "      <td>0.000158</td>\n",
       "      <td>0.00092</td>\n",
       "      <td>0.000158</td>\n",
       "      <td>...</td>\n",
       "      <td>0.000815</td>\n",
       "      <td>0.000514</td>\n",
       "      <td>0.004893</td>\n",
       "      <td>0.001388</td>\n",
       "      <td>0.000469</td>\n",
       "      <td>0.000193</td>\n",
       "      <td>0.000469</td>\n",
       "      <td>0.000193</td>\n",
       "      <td>0.000401</td>\n",
       "      <td>0.000128</td>\n",
       "    </tr>\n",
       "    <tr>\n",
       "      <th>8</th>\n",
       "      <td>0.8</td>\n",
       "      <td>0.999974</td>\n",
       "      <td>0.999892</td>\n",
       "      <td>0.976819</td>\n",
       "      <td>0.97633</td>\n",
       "      <td>0.000708</td>\n",
       "      <td>0.005711</td>\n",
       "      <td>0.000158</td>\n",
       "      <td>0.00092</td>\n",
       "      <td>0.000158</td>\n",
       "      <td>...</td>\n",
       "      <td>0.000815</td>\n",
       "      <td>0.000514</td>\n",
       "      <td>0.004893</td>\n",
       "      <td>0.001388</td>\n",
       "      <td>0.000469</td>\n",
       "      <td>0.000193</td>\n",
       "      <td>0.000469</td>\n",
       "      <td>0.000193</td>\n",
       "      <td>0.000401</td>\n",
       "      <td>0.000128</td>\n",
       "    </tr>\n",
       "    <tr>\n",
       "      <th>9</th>\n",
       "      <td>0.9</td>\n",
       "      <td>0.999974</td>\n",
       "      <td>0.999892</td>\n",
       "      <td>0.976819</td>\n",
       "      <td>0.97633</td>\n",
       "      <td>0.000708</td>\n",
       "      <td>0.005711</td>\n",
       "      <td>0.000158</td>\n",
       "      <td>0.00092</td>\n",
       "      <td>0.000158</td>\n",
       "      <td>...</td>\n",
       "      <td>0.000815</td>\n",
       "      <td>0.000514</td>\n",
       "      <td>0.004893</td>\n",
       "      <td>0.001388</td>\n",
       "      <td>0.000469</td>\n",
       "      <td>0.000193</td>\n",
       "      <td>0.000469</td>\n",
       "      <td>0.000193</td>\n",
       "      <td>0.000401</td>\n",
       "      <td>0.000128</td>\n",
       "    </tr>\n",
       "  </tbody>\n",
       "</table>\n",
       "<p>10 rows × 39 columns</p>\n",
       "</div>"
      ],
      "text/plain": [
       "   time       MO1       MO2       MO3      MO4       MO5       MO6       MO7  \\\n",
       "0   0.0  0.999974  0.999892  0.976819  0.97633  0.000708  0.005711  0.000158   \n",
       "1   0.1  0.999974  0.999892  0.976819  0.97633  0.000708  0.005711  0.000158   \n",
       "2   0.2  0.999974  0.999892  0.976819  0.97633  0.000708  0.005711  0.000158   \n",
       "3   0.3  0.999974  0.999892  0.976819  0.97633  0.000708  0.005711  0.000158   \n",
       "4   0.4  0.999974  0.999892  0.976819  0.97633  0.000708  0.005711  0.000158   \n",
       "5   0.5  0.999974  0.999892  0.976819  0.97633  0.000708  0.005711  0.000158   \n",
       "6   0.6  0.999974  0.999892  0.976819  0.97633  0.000708  0.005711  0.000158   \n",
       "7   0.7  0.999974  0.999892  0.976819  0.97633  0.000708  0.005711  0.000158   \n",
       "8   0.8  0.999974  0.999892  0.976819  0.97633  0.000708  0.005711  0.000158   \n",
       "9   0.9  0.999974  0.999892  0.976819  0.97633  0.000708  0.005711  0.000158   \n",
       "\n",
       "       MO8       MO9  ...      MO29      MO30      MO31      MO32      MO33  \\\n",
       "0  0.00092  0.000158  ...  0.000815  0.000514  0.004893  0.001388  0.000469   \n",
       "1  0.00092  0.000158  ...  0.000815  0.000514  0.004893  0.001388  0.000469   \n",
       "2  0.00092  0.000158  ...  0.000815  0.000514  0.004893  0.001388  0.000469   \n",
       "3  0.00092  0.000158  ...  0.000815  0.000514  0.004893  0.001388  0.000469   \n",
       "4  0.00092  0.000158  ...  0.000815  0.000514  0.004893  0.001388  0.000469   \n",
       "5  0.00092  0.000158  ...  0.000815  0.000514  0.004893  0.001388  0.000469   \n",
       "6  0.00092  0.000158  ...  0.000815  0.000514  0.004893  0.001388  0.000469   \n",
       "7  0.00092  0.000158  ...  0.000815  0.000514  0.004893  0.001388  0.000469   \n",
       "8  0.00092  0.000158  ...  0.000815  0.000514  0.004893  0.001388  0.000469   \n",
       "9  0.00092  0.000158  ...  0.000815  0.000514  0.004893  0.001388  0.000469   \n",
       "\n",
       "       MO34      MO35      MO36      MO37      MO38  \n",
       "0  0.000193  0.000469  0.000193  0.000401  0.000128  \n",
       "1  0.000193  0.000469  0.000193  0.000401  0.000128  \n",
       "2  0.000193  0.000469  0.000193  0.000401  0.000128  \n",
       "3  0.000193  0.000469  0.000193  0.000401  0.000128  \n",
       "4  0.000193  0.000469  0.000193  0.000401  0.000128  \n",
       "5  0.000193  0.000469  0.000193  0.000401  0.000128  \n",
       "6  0.000193  0.000469  0.000193  0.000401  0.000128  \n",
       "7  0.000193  0.000469  0.000193  0.000401  0.000128  \n",
       "8  0.000193  0.000469  0.000193  0.000401  0.000128  \n",
       "9  0.000193  0.000469  0.000193  0.000401  0.000128  \n",
       "\n",
       "[10 rows x 39 columns]"
      ]
     },
     "execution_count": 9,
     "metadata": {},
     "output_type": "execute_result"
    }
   ],
   "source": [
    "df_npop = read_in_df(filedir, filenames[0])\n",
    "df_npop.head(10)"
   ]
  },
  {
   "cell_type": "code",
   "execution_count": 10,
   "metadata": {},
   "outputs": [
    {
     "data": {
      "text/html": [
       "<div>\n",
       "<style scoped>\n",
       "    .dataframe tbody tr th:only-of-type {\n",
       "        vertical-align: middle;\n",
       "    }\n",
       "\n",
       "    .dataframe tbody tr th {\n",
       "        vertical-align: top;\n",
       "    }\n",
       "\n",
       "    .dataframe thead th {\n",
       "        text-align: right;\n",
       "    }\n",
       "</style>\n",
       "<table border=\"1\" class=\"dataframe\">\n",
       "  <thead>\n",
       "    <tr style=\"text-align: right;\">\n",
       "      <th></th>\n",
       "      <th>time</th>\n",
       "      <th>MO3</th>\n",
       "      <th>MO4</th>\n",
       "      <th>MO6</th>\n",
       "      <th>MO11</th>\n",
       "      <th>MO12</th>\n",
       "      <th>MO14</th>\n",
       "    </tr>\n",
       "  </thead>\n",
       "  <tbody>\n",
       "    <tr>\n",
       "      <th>0</th>\n",
       "      <td>0.0</td>\n",
       "      <td>0.976819</td>\n",
       "      <td>0.97633</td>\n",
       "      <td>0.005711</td>\n",
       "      <td>0.004568</td>\n",
       "      <td>0.006659</td>\n",
       "      <td>0.000107</td>\n",
       "    </tr>\n",
       "    <tr>\n",
       "      <th>1</th>\n",
       "      <td>0.1</td>\n",
       "      <td>0.976819</td>\n",
       "      <td>0.97633</td>\n",
       "      <td>0.005711</td>\n",
       "      <td>0.004568</td>\n",
       "      <td>0.006659</td>\n",
       "      <td>0.000107</td>\n",
       "    </tr>\n",
       "    <tr>\n",
       "      <th>2</th>\n",
       "      <td>0.2</td>\n",
       "      <td>0.976819</td>\n",
       "      <td>0.97633</td>\n",
       "      <td>0.005711</td>\n",
       "      <td>0.004568</td>\n",
       "      <td>0.006659</td>\n",
       "      <td>0.000107</td>\n",
       "    </tr>\n",
       "    <tr>\n",
       "      <th>3</th>\n",
       "      <td>0.3</td>\n",
       "      <td>0.976819</td>\n",
       "      <td>0.97633</td>\n",
       "      <td>0.005711</td>\n",
       "      <td>0.004568</td>\n",
       "      <td>0.006659</td>\n",
       "      <td>0.000107</td>\n",
       "    </tr>\n",
       "    <tr>\n",
       "      <th>4</th>\n",
       "      <td>0.4</td>\n",
       "      <td>0.976819</td>\n",
       "      <td>0.97633</td>\n",
       "      <td>0.005711</td>\n",
       "      <td>0.004568</td>\n",
       "      <td>0.006659</td>\n",
       "      <td>0.000107</td>\n",
       "    </tr>\n",
       "  </tbody>\n",
       "</table>\n",
       "</div>"
      ],
      "text/plain": [
       "   time       MO3      MO4       MO6      MO11      MO12      MO14\n",
       "0   0.0  0.976819  0.97633  0.005711  0.004568  0.006659  0.000107\n",
       "1   0.1  0.976819  0.97633  0.005711  0.004568  0.006659  0.000107\n",
       "2   0.2  0.976819  0.97633  0.005711  0.004568  0.006659  0.000107\n",
       "3   0.3  0.976819  0.97633  0.005711  0.004568  0.006659  0.000107\n",
       "4   0.4  0.976819  0.97633  0.005711  0.004568  0.006659  0.000107"
      ]
     },
     "metadata": {},
     "output_type": "display_data"
    },
    {
     "name": "stdout",
     "output_type": "stream",
     "text": [
      "['time' 'MO3' 'MO4' 'MO6' 'MO11' 'MO12' 'MO14']\n"
     ]
    }
   ],
   "source": [
    "df_npop2, indices_npop = check_if_significant(df_npop, threshv)\n",
    "display(df_npop2.head())\n",
    "print(indices_npop)"
   ]
  },
  {
   "cell_type": "markdown",
   "metadata": {},
   "source": [
    "Plot the remaining columns. Seaborn prefers \"long format\" (one column for all measurement values, one column to indicate the type) as input, whereas the cvs is in \"wide format\" (one column per measurement type)."
   ]
  },
  {
   "cell_type": "code",
   "execution_count": 11,
   "metadata": {},
   "outputs": [
    {
     "data": {
      "image/png": "[encoded data removed]",
      "text/plain": [
       "<Figure size 432x288 with 1 Axes>"
      ]
     },
     "metadata": {
      "needs_background": "light"
     },
     "output_type": "display_data"
    }
   ],
   "source": [
    "sn.lineplot(x='time', y='value', hue='variable', \n",
    "             data=pd.melt(df_npop2, ['time'])) \n",
    "# Unpivot a DataFrame from wide to long format, optionally leaving identifiers set.\n",
    "plt.show()"
   ]
  },
  {
   "cell_type": "markdown",
   "metadata": {},
   "source": [
    "## Quantify the pairwise correlation in the data\n",
    "\n",
    "- negative correlation: y values decrease for increasing x - large values of one feature correspond to small values of the other feature\n",
    "- weak or no correlation: no trend observable, association between two features is hardly observable\n",
    "- positive correlation: y values increase for decreasing x - small values of one feature correspond to small values of the other feature\n",
    "\n",
    "Remember that correlation does not indicate causation - the reason that two features are associated can lie in their dependence on same factors.\n",
    "\n",
    "Correlate the value pairs using Pearson's $r$. Pearson's $r$ is a measure of the linear relationship between features:\n",
    "\n",
    "$r = \\frac{\\sum_i(x_i − \\bar{x})(y_i − \\bar{y})}{\\sqrt{\\sum_i(x_i − \\bar{x})^2 \\sum_i(y_i − \\bar{y})^2}}$\n",
    "\n",
    "Here, $\\bar{x}$ and $\\bar{y}$ indicate mean values. $i$ runs over the whole data set. For a positive correlation, $r$ is positive, and negative for a negative correlation, with minimum and maximum values of -1 and 1, indicating a perfectly linear relationship. Weakly or not correlated features are characterized by $r$-values close to 0.\n",
    "\n",
    "Other measures of correlation that can be used are Spearman's rank (value pairs follow monotonic function) or Kendall's $\\tau$ (measures ordinal association), but they do not apply here. You can also define measures yourself."
   ]
  },
  {
   "cell_type": "code",
   "execution_count": 15,
   "metadata": {},
   "outputs": [
    {
     "name": "stdout",
     "output_type": "stream",
     "text": [
      "Correlation Matrix\n",
      "          time       MO3       MO4       MO6      MO11      MO12      MO14\n",
      "time  1.000000 -0.714730 -0.740092  0.753839  0.675510  0.633522  0.412123\n",
      "MO3  -0.714730  1.000000  0.926317 -0.907659 -0.966070 -0.818545 -0.590497\n",
      "MO4  -0.740092  0.926317  1.000000 -0.964051 -0.844402 -0.782851 -0.726726\n",
      "MO6   0.753839 -0.907659 -0.964051  1.000000  0.841446  0.699677  0.538846\n",
      "MO11  0.675510 -0.966070 -0.844402  0.841446  1.000000  0.855583  0.447701\n",
      "MO12  0.633522 -0.818545 -0.782851  0.699677  0.855583  1.000000  0.514489\n",
      "MO14  0.412123 -0.590497 -0.726726  0.538846  0.447701  0.514489  1.000000\n"
     ]
    }
   ],
   "source": [
    "print(\"Correlation Matrix\")\n",
    "print(df_npop2.corr())"
   ]
  },
  {
   "cell_type": "markdown",
   "metadata": {},
   "source": [
    "This tells us that each value is perfectly correlated with itself. We are not interested in the diagonal values and also not in the correlation with time. We also need to get rid of redundant entries. Finally, we need to find the value pairs that exhibit the highest linear correlation. We still want to know if it is positive or negative correlation, so we cannot get rid of the sign."
   ]
  },
  {
   "cell_type": "code",
   "execution_count": 12,
   "metadata": {},
   "outputs": [
    {
     "name": "stdout",
     "output_type": "stream",
     "text": [
      "Index(['MO3', 'MO4', 'MO6', 'MO11', 'MO12', 'MO14'], dtype='object')\n",
      "{('MO4', 'MO3'), ('MO11', 'MO6'), ('MO6', 'MO3'), ('MO14', 'MO6'), ('MO12', 'MO12'), ('MO11', 'MO3'), ('MO12', 'MO4'), ('MO14', 'MO3'), ('MO4', 'MO4'), ('MO6', 'MO4'), ('MO12', 'MO11'), ('MO14', 'MO14'), ('MO3', 'MO3'), ('MO11', 'MO4'), ('MO12', 'MO6'), ('MO6', 'MO6'), ('MO14', 'MO12'), ('MO11', 'MO11'), ('MO14', 'MO4'), ('MO14', 'MO11'), ('MO12', 'MO3')}\n"
     ]
    },
    {
     "data": {
      "text/plain": [
       "MO3   MO11   -0.966070\n",
       "MO4   MO6    -0.964051\n",
       "MO3   MO4     0.926317\n",
       "      MO6    -0.907659\n",
       "MO11  MO12    0.855583\n",
       "MO4   MO11   -0.844402\n",
       "MO6   MO11    0.841446\n",
       "MO3   MO12   -0.818545\n",
       "MO4   MO12   -0.782851\n",
       "      MO14   -0.726726\n",
       "MO6   MO12    0.699677\n",
       "MO3   MO14   -0.590497\n",
       "MO6   MO14    0.538846\n",
       "MO12  MO14    0.514489\n",
       "MO11  MO14    0.447701\n",
       "dtype: float64"
      ]
     },
     "metadata": {},
     "output_type": "display_data"
    }
   ],
   "source": [
    "def get_correlation_measure(df):\n",
    "    drop_values = set() # an unordered collection of items\n",
    "    cols = df.columns # get the column labels\n",
    "    print(cols)\n",
    "    for i in range(0, df.shape[1]):\n",
    "        for j in range(0, i+1): # get rid of all diagonal entries and the lower triangular\n",
    "            drop_values.add((cols[i], cols[j]))\n",
    "    print(drop_values)\n",
    "    return drop_values\n",
    "df_npop2_short = df_npop2.drop([\"time\"], axis = 1) # get rid of time column\n",
    "drop_vals = get_correlation_measure(df_npop2_short) # get rid of lower triangular and diagonal entries\n",
    "corr2 = df_npop2_short.corr().unstack() # pivot the correlation matrix\n",
    "corr2 = corr2.drop(labels=drop_vals).sort_values(ascending=False, key=lambda col: col.abs()) # sort by absolute values but keep sign\n",
    "display(corr2)                                    "
   ]
  },
  {
   "cell_type": "code",
   "execution_count": 13,
   "metadata": {},
   "outputs": [
    {
     "data": {
      "text/plain": [
       "{('MO11', 'MO11'),\n",
       " ('MO11', 'MO3'),\n",
       " ('MO11', 'MO4'),\n",
       " ('MO11', 'MO6'),\n",
       " ('MO12', 'MO11'),\n",
       " ('MO12', 'MO12'),\n",
       " ('MO12', 'MO3'),\n",
       " ('MO12', 'MO4'),\n",
       " ('MO12', 'MO6'),\n",
       " ('MO14', 'MO11'),\n",
       " ('MO14', 'MO12'),\n",
       " ('MO14', 'MO14'),\n",
       " ('MO14', 'MO3'),\n",
       " ('MO14', 'MO4'),\n",
       " ('MO14', 'MO6'),\n",
       " ('MO3', 'MO3'),\n",
       " ('MO4', 'MO3'),\n",
       " ('MO4', 'MO4'),\n",
       " ('MO6', 'MO3'),\n",
       " ('MO6', 'MO4'),\n",
       " ('MO6', 'MO6')}"
      ]
     },
     "execution_count": 13,
     "metadata": {},
     "output_type": "execute_result"
    }
   ],
   "source": [
    "drop_vals"
   ]
  },
  {
   "cell_type": "markdown",
   "metadata": {},
   "source": [
    "Note that the entries in the left column are not repeated if they do not change from the row above (so the fourth feature pair is MO3 and MO6)."
   ]
  },
  {
   "cell_type": "markdown",
   "metadata": {},
   "source": [
    "### Task 4: Generate graphs of the relevant data and save as .pdf."
   ]
  },
  {
   "cell_type": "code",
   "execution_count": null,
   "metadata": {},
   "outputs": [],
   "source": []
  },
  {
   "cell_type": "markdown",
   "metadata": {},
   "source": [
    "### Task 5: Calculate the Euclidean distance (L2 norm) for the vectors in `table.dat`"
   ]
  },
  {
   "cell_type": "code",
   "execution_count": null,
   "metadata": {},
   "outputs": [],
   "source": [
    "values = read_in_np(filedir, filenames[3])"
   ]
  },
  {
   "cell_type": "code",
   "execution_count": null,
   "metadata": {},
   "outputs": [],
   "source": [
    "# no need for the first two columns, and replace the NaNs by zero\n",
    "# table_vals = np.delete(values,[0,1],axis=0)\n",
    "table_vals = np.nan_to_num(values)"
   ]
  },
  {
   "cell_type": "markdown",
   "metadata": {},
   "source": [
    "Now calculate how different the vectors in column 2 are from column 3, column 4 from column 5, and column 6 from column 7."
   ]
  },
  {
   "cell_type": "code",
   "execution_count": null,
   "metadata": {},
   "outputs": [],
   "source": [
    "def euclidean_distance(list_ref, list_comp, vectors):\n",
    "    distances = np.zeros(len(list_ref))\n",
    "    for i in range(len(list_ref)):\n",
    "        distances[i] = np.linalg.norm(vectors[list_comp[i]] - vectors[list_ref[i]])\n",
    "    return distances"
   ]
  },
  {
   "cell_type": "code",
   "execution_count": null,
   "metadata": {},
   "outputs": [],
   "source": [
    "out_dist = euclidean_distance([2,4,6],[3,5,7],table_vals)\n",
    "print(out_dist)\n",
    "x = range(0,len(out_dist))\n",
    "plt.bar(x,out_dist)\n",
    "plt.xticks(x, ('x', 'y', 'z'))\n",
    "plt.show()"
   ]
  },
  {
   "cell_type": "markdown",
   "metadata": {},
   "source": [
    "# Numerical analysis\n",
    "\n",
    "Analyze the data using autocorrelation functions and discrete Fourier transforms. Plot your results."
   ]
  },
  {
   "cell_type": "code",
   "execution_count": null,
   "metadata": {},
   "outputs": [],
   "source": [
    "def read_in_np(filedir, filename):\n",
    "    name = '{}{}'.format(filedir, filename)\n",
    "    print('Reading from file {} - numpy'.format(name))\n",
    "    data = np.loadtxt(name, skiprows=1)\n",
    "    data = data.T\n",
    "    return data"
   ]
  },
  {
   "cell_type": "code",
   "execution_count": null,
   "metadata": {},
   "outputs": [],
   "source": [
    "def plot_columns(data):\n",
    "    for i in range(1,len(data)):\n",
    "        plt.plot(data[0], data[i])\n",
    "        plt.title('Column {}'.format(i))\n",
    "        plt.show()"
   ]
  },
  {
   "cell_type": "markdown",
   "metadata": {},
   "source": [
    "### Task 1: Read in `efield.t` and Fourier-transform relevant columns"
   ]
  },
  {
   "cell_type": "code",
   "execution_count": null,
   "metadata": {},
   "outputs": [],
   "source": [
    "efield = read_in_np(filedir, filenames[1])\n",
    "plot_columns(efield)"
   ]
  },
  {
   "cell_type": "markdown",
   "metadata": {},
   "source": [
    "Here we are interested in column 2 since the others are constant."
   ]
  },
  {
   "cell_type": "code",
   "execution_count": null,
   "metadata": {},
   "outputs": [],
   "source": [
    "# print(np.var(efield)) # var computed for the overall, flattened array\n",
    "# print(np.var(efield, axis=1)) # var computed for each column (row-major order)\n",
    "# print(np.nonzero(np.var(efield, axis=1) > threshv)) # returns the indices of values for which condition applies\n",
    "print(efield[np.nonzero(np.var(efield, axis=1) > threshv)]) # get the numpy array for those indices"
   ]
  },
  {
   "cell_type": "code",
   "execution_count": null,
   "metadata": {},
   "outputs": [],
   "source": [
    "def check_if_significant_np(data, thresh):\n",
    "    indices = np.nonzero(np.var(efield, axis=1) > thresh)\n",
    "    data_out = data[indices]\n",
    "    return data_out, indices"
   ]
  },
  {
   "cell_type": "code",
   "execution_count": null,
   "metadata": {},
   "outputs": [],
   "source": [
    "efield2, indices = check_if_significant_np(efield, threshv)\n",
    "plot_columns(efield2)"
   ]
  },
  {
   "cell_type": "code",
   "execution_count": null,
   "metadata": {},
   "outputs": [],
   "source": [
    "# do the FT\n",
    "def do_DFT(data, tmax):\n",
    "    data_s = np.fft.rfft(data)\n",
    "    data_w = np.fft.rfftfreq(tmax)\n",
    "    return data_s, data_w"
   ]
  },
  {
   "cell_type": "code",
   "execution_count": null,
   "metadata": {},
   "outputs": [],
   "source": [
    "print(len(efield2[0]))\n",
    "efield_s, frequency = do_DFT(efield2[1], len(efield2[0]))\n",
    "plt.plot(frequency, abs(efield_s)**2) # the frequency of this laser pulse was 0.116\n",
    "plt.show()"
   ]
  },
  {
   "cell_type": "markdown",
   "metadata": {},
   "source": [
    "### Task 2: Generate a plot of your results to be saved as pdf."
   ]
  },
  {
   "cell_type": "code",
   "execution_count": null,
   "metadata": {},
   "outputs": [],
   "source": []
  },
  {
   "cell_type": "markdown",
   "metadata": {},
   "source": [
    "### Task 3: Calculate the autocorrelation function from nstate_i.t"
   ]
  },
  {
   "cell_type": "code",
   "execution_count": null,
   "metadata": {},
   "outputs": [],
   "source": [
    "wavef = read_in_np(filedir, filenames[4],)"
   ]
  },
  {
   "cell_type": "code",
   "execution_count": null,
   "metadata": {},
   "outputs": [],
   "source": [
    "time = wavef[0]\n",
    "wavef = np.delete(wavef,[0],axis=0)\n",
    "print(wavef[0])"
   ]
  },
  {
   "cell_type": "code",
   "execution_count": null,
   "metadata": {},
   "outputs": [],
   "source": [
    "# convert to complex array\n",
    "realpart = wavef[0::2]\n",
    "imagpart = wavef[1::2]\n",
    "wavefc = realpart + 1j*imagpart\n",
    "print(wavefc[0])\n",
    "print(realpart[0])\n",
    "print(imagpart[0])"
   ]
  },
  {
   "cell_type": "code",
   "execution_count": null,
   "metadata": {},
   "outputs": [],
   "source": [
    "# Now construct overlap between first vector and all others\n",
    "def calc_auto(wavef):\n",
    "    aucofu = np.zeros(len(wavef[0]),dtype = complex)\n",
    "    for i in range(0,len(wavef[0])):\n",
    "        aucofu[i] = np.sum(wavef[:,0]*np.conjugate(wavef[:,i]))\n",
    "    return aucofu"
   ]
  },
  {
   "cell_type": "code",
   "execution_count": null,
   "metadata": {},
   "outputs": [],
   "source": [
    "aucofu = calc_auto(wavefc)\n",
    "print(aucofu)\n",
    "plt.plot(abs(aucofu**2))\n",
    "plt.show()"
   ]
  },
  {
   "cell_type": "markdown",
   "metadata": {},
   "source": [
    "### Task 4: Generate a plot of your results to be saved as pdf."
   ]
  },
  {
   "cell_type": "code",
   "execution_count": null,
   "metadata": {},
   "outputs": [],
   "source": []
  },
  {
   "cell_type": "markdown",
   "metadata": {},
   "source": [
    "### Task 5: Discrete Fourier transform of the autocorrelation function"
   ]
  },
  {
   "cell_type": "code",
   "execution_count": null,
   "metadata": {},
   "outputs": [],
   "source": [
    "# now do the FT\n",
    "# do the FT - see https://numpy.org/doc/stable/reference/routines.fft.html\n",
    "def do_fft(data,tmax):\n",
    "    data_s = np.fft.fft(data)\n",
    "    data_w = np.fft.fftfreq(tmax)\n",
    "    # only take the positive frequency components\n",
    "    return data_w[0:tmax//2], data_s[0:tmax//2] \n",
    "\n",
    "energy, spec = do_fft(aucofu,len(time))\n",
    "print(energy)"
   ]
  },
  {
   "cell_type": "markdown",
   "metadata": {},
   "source": [
    "### Task 6: Generate a plot of your results to be saved as pdf."
   ]
  },
  {
   "cell_type": "code",
   "execution_count": null,
   "metadata": {},
   "outputs": [],
   "source": [
    "#plt.plot(energy,real(spec))\n",
    "#plt.plot(energy,imag(spec))\n",
    "#plt.plot(energy,abs(spec))\n",
    "plt.plot(energy,abs(spec)**2)\n",
    "plt.ylim(-0.1,15)"
   ]
  },
  {
   "cell_type": "code",
   "execution_count": null,
   "metadata": {},
   "outputs": [],
   "source": []
  }
 ],
 "metadata": {
  "kernelspec": {
   "display_name": "Python 3",
   "language": "python",
   "name": "python3"
  },
  "language_info": {
   "codemirror_mode": {
    "name": "ipython",
    "version": 3
   },
   "file_extension": ".py",
   "mimetype": "text/x-python",
   "name": "python",
   "nbconvert_exporter": "python",
   "pygments_lexer": "ipython3",
   "version": "3.8.3"
  }
 },
 "nbformat": 4,
 "nbformat_minor": 4
}
